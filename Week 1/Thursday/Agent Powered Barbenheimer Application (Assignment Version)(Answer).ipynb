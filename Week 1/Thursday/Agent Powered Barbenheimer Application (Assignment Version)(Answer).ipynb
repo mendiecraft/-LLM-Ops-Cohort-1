{
 "cells": [
  {
   "cell_type": "markdown",
   "metadata": {},
   "source": [
    "# Questioning Barbie and Oppenheimer Through the Use of Agents\n",
    "\n",
    "In the following notebook we will build an application that queries both the Barbie and Oppenheimer movies Wikipedia pages, as well as their reviews. \n",
    "\n",
    "The main focus of this notebook is to showcase a brief introduction to Agents.\n",
    "\n",
    "## Build 🏗️\n",
    "\n",
    "There are 3 main tasks in this notebook:\n",
    "\n",
    "1. Contruct a Barbie retriever\n",
    "2. Construct an Oppenheimer retriever\n",
    "3. Combine the two and allow users to query both resources from a single input through the use of Agents\n",
    "\n",
    "## Ship 🚢\n",
    "\n",
    "Based on Tuesday's session - construct a Chainlit (or Gradio) application that allows users to interface with the application.\n",
    "\n",
    "## Share 🚀\n",
    "\n",
    "Make a social media post about your final application."
   ]
  },
  {
   "cell_type": "markdown",
   "metadata": {},
   "source": [
    "### Dependencies\n",
    "\n",
    "As always, let's start with some dependencies!"
   ]
  },
  {
   "cell_type": "code",
   "execution_count": 2,
   "metadata": {},
   "outputs": [
    {
     "name": "stdout",
     "output_type": "stream",
     "text": [
      "\u001b[31mERROR: pip's dependency resolver does not currently take into account all the packages that are installed. This behaviour is the source of the following dependency conflicts.\r\n",
      "llama-index 0.8.6 requires langchain<=0.0.266,>=0.0.262, but you have langchain 0.0.274 which is incompatible.\u001b[0m\r\n"
     ]
    }
   ],
   "source": [
    "!pip install -q -U langchain openai"
   ]
  },
  {
   "cell_type": "code",
   "execution_count": 3,
   "metadata": {},
   "outputs": [
    {
     "name": "stdout",
     "output_type": "stream",
     "text": [
      "Enter your OpenAI API Key: ········\n"
     ]
    }
   ],
   "source": [
    "import getpass\n",
    "import os\n",
    "openai_api_key = getpass.getpass(\"Enter your OpenAI API Key: \")\n",
    "os.environ[\"OPENAI_API_KEY\"] = openai_api_key"
   ]
  },
  {
   "cell_type": "markdown",
   "metadata": {},
   "source": [
    "### LLM \n",
    "\n",
    "We will be leveraging OpenAI's `gpt-3.5-turbo` throughout the notebook, and we can keep it consistent throughout!"
   ]
  },
  {
   "cell_type": "code",
   "execution_count": 4,
   "metadata": {},
   "outputs": [],
   "source": [
    "from langchain.chat_models import ChatOpenAI\n",
    "llm = ChatOpenAI(model=\"gpt-3.5-turbo\", temperature = 0.7)"
   ]
  },
  {
   "cell_type": "markdown",
   "metadata": {},
   "source": [
    "### Data Collection and Transformation\n",
    "\n",
    "We'll be leveraging the `WikipediaLoader` tool to collect information from Wikipedia. \n",
    "\n",
    "Be sure to set the `doc_content_chars_max` parameter so that you capture the *entire* Wikipedia article content."
   ]
  },
  {
   "cell_type": "code",
   "execution_count": 4,
   "metadata": {},
   "outputs": [],
   "source": [
    "!pip install -q -U wikipedia"
   ]
  },
  {
   "cell_type": "code",
   "execution_count": 15,
   "metadata": {},
   "outputs": [
    {
     "ename": "ConnectionError",
     "evalue": "HTTPSConnectionPool(host='en.wikipedia.org', port=443): Max retries exceeded with url: /w/api.php?prop=extracts&explaintext=&exintro=&titles=List+of+Barbie+animated+films&format=json&action=query (Caused by NewConnectionError('<urllib3.connection.HTTPSConnection object at 0x7feed1313a00>: Failed to establish a new connection: [Errno 101] Network is unreachable'))",
     "output_type": "error",
     "traceback": [
      "\u001b[0;31m---------------------------------------------------------------------------\u001b[0m",
      "\u001b[0;31mOSError\u001b[0m                                   Traceback (most recent call last)",
      "\u001b[0;32m~/anaconda3/lib/python3.9/site-packages/urllib3/connection.py\u001b[0m in \u001b[0;36m_new_conn\u001b[0;34m(self)\u001b[0m\n\u001b[1;32m    173\u001b[0m         \u001b[0;32mtry\u001b[0m\u001b[0;34m:\u001b[0m\u001b[0;34m\u001b[0m\u001b[0;34m\u001b[0m\u001b[0m\n\u001b[0;32m--> 174\u001b[0;31m             conn = connection.create_connection(\n\u001b[0m\u001b[1;32m    175\u001b[0m                 \u001b[0;34m(\u001b[0m\u001b[0mself\u001b[0m\u001b[0;34m.\u001b[0m\u001b[0m_dns_host\u001b[0m\u001b[0;34m,\u001b[0m \u001b[0mself\u001b[0m\u001b[0;34m.\u001b[0m\u001b[0mport\u001b[0m\u001b[0;34m)\u001b[0m\u001b[0;34m,\u001b[0m \u001b[0mself\u001b[0m\u001b[0;34m.\u001b[0m\u001b[0mtimeout\u001b[0m\u001b[0;34m,\u001b[0m \u001b[0;34m**\u001b[0m\u001b[0mextra_kw\u001b[0m\u001b[0;34m\u001b[0m\u001b[0;34m\u001b[0m\u001b[0m\n",
      "\u001b[0;32m~/anaconda3/lib/python3.9/site-packages/urllib3/util/connection.py\u001b[0m in \u001b[0;36mcreate_connection\u001b[0;34m(address, timeout, source_address, socket_options)\u001b[0m\n\u001b[1;32m     95\u001b[0m     \u001b[0;32mif\u001b[0m \u001b[0merr\u001b[0m \u001b[0;32mis\u001b[0m \u001b[0;32mnot\u001b[0m \u001b[0;32mNone\u001b[0m\u001b[0;34m:\u001b[0m\u001b[0;34m\u001b[0m\u001b[0;34m\u001b[0m\u001b[0m\n\u001b[0;32m---> 96\u001b[0;31m         \u001b[0;32mraise\u001b[0m \u001b[0merr\u001b[0m\u001b[0;34m\u001b[0m\u001b[0;34m\u001b[0m\u001b[0m\n\u001b[0m\u001b[1;32m     97\u001b[0m \u001b[0;34m\u001b[0m\u001b[0m\n",
      "\u001b[0;32m~/anaconda3/lib/python3.9/site-packages/urllib3/util/connection.py\u001b[0m in \u001b[0;36mcreate_connection\u001b[0;34m(address, timeout, source_address, socket_options)\u001b[0m\n\u001b[1;32m     85\u001b[0m                 \u001b[0msock\u001b[0m\u001b[0;34m.\u001b[0m\u001b[0mbind\u001b[0m\u001b[0;34m(\u001b[0m\u001b[0msource_address\u001b[0m\u001b[0;34m)\u001b[0m\u001b[0;34m\u001b[0m\u001b[0;34m\u001b[0m\u001b[0m\n\u001b[0;32m---> 86\u001b[0;31m             \u001b[0msock\u001b[0m\u001b[0;34m.\u001b[0m\u001b[0mconnect\u001b[0m\u001b[0;34m(\u001b[0m\u001b[0msa\u001b[0m\u001b[0;34m)\u001b[0m\u001b[0;34m\u001b[0m\u001b[0;34m\u001b[0m\u001b[0m\n\u001b[0m\u001b[1;32m     87\u001b[0m             \u001b[0;32mreturn\u001b[0m \u001b[0msock\u001b[0m\u001b[0;34m\u001b[0m\u001b[0;34m\u001b[0m\u001b[0m\n",
      "\u001b[0;31mOSError\u001b[0m: [Errno 101] Network is unreachable",
      "\nDuring handling of the above exception, another exception occurred:\n",
      "\u001b[0;31mNewConnectionError\u001b[0m                        Traceback (most recent call last)",
      "\u001b[0;32m~/anaconda3/lib/python3.9/site-packages/urllib3/connectionpool.py\u001b[0m in \u001b[0;36murlopen\u001b[0;34m(self, method, url, body, headers, retries, redirect, assert_same_host, timeout, pool_timeout, release_conn, chunked, body_pos, **response_kw)\u001b[0m\n\u001b[1;32m    698\u001b[0m             \u001b[0;31m# Make the request on the httplib connection object.\u001b[0m\u001b[0;34m\u001b[0m\u001b[0;34m\u001b[0m\u001b[0m\n\u001b[0;32m--> 699\u001b[0;31m             httplib_response = self._make_request(\n\u001b[0m\u001b[1;32m    700\u001b[0m                 \u001b[0mconn\u001b[0m\u001b[0;34m,\u001b[0m\u001b[0;34m\u001b[0m\u001b[0;34m\u001b[0m\u001b[0m\n",
      "\u001b[0;32m~/anaconda3/lib/python3.9/site-packages/urllib3/connectionpool.py\u001b[0m in \u001b[0;36m_make_request\u001b[0;34m(self, conn, method, url, timeout, chunked, **httplib_request_kw)\u001b[0m\n\u001b[1;32m    381\u001b[0m         \u001b[0;32mtry\u001b[0m\u001b[0;34m:\u001b[0m\u001b[0;34m\u001b[0m\u001b[0;34m\u001b[0m\u001b[0m\n\u001b[0;32m--> 382\u001b[0;31m             \u001b[0mself\u001b[0m\u001b[0;34m.\u001b[0m\u001b[0m_validate_conn\u001b[0m\u001b[0;34m(\u001b[0m\u001b[0mconn\u001b[0m\u001b[0;34m)\u001b[0m\u001b[0;34m\u001b[0m\u001b[0;34m\u001b[0m\u001b[0m\n\u001b[0m\u001b[1;32m    383\u001b[0m         \u001b[0;32mexcept\u001b[0m \u001b[0;34m(\u001b[0m\u001b[0mSocketTimeout\u001b[0m\u001b[0;34m,\u001b[0m \u001b[0mBaseSSLError\u001b[0m\u001b[0;34m)\u001b[0m \u001b[0;32mas\u001b[0m \u001b[0me\u001b[0m\u001b[0;34m:\u001b[0m\u001b[0;34m\u001b[0m\u001b[0;34m\u001b[0m\u001b[0m\n",
      "\u001b[0;32m~/anaconda3/lib/python3.9/site-packages/urllib3/connectionpool.py\u001b[0m in \u001b[0;36m_validate_conn\u001b[0;34m(self, conn)\u001b[0m\n\u001b[1;32m   1009\u001b[0m         \u001b[0;32mif\u001b[0m \u001b[0;32mnot\u001b[0m \u001b[0mgetattr\u001b[0m\u001b[0;34m(\u001b[0m\u001b[0mconn\u001b[0m\u001b[0;34m,\u001b[0m \u001b[0;34m\"sock\"\u001b[0m\u001b[0;34m,\u001b[0m \u001b[0;32mNone\u001b[0m\u001b[0;34m)\u001b[0m\u001b[0;34m:\u001b[0m  \u001b[0;31m# AppEngine might not have  `.sock`\u001b[0m\u001b[0;34m\u001b[0m\u001b[0;34m\u001b[0m\u001b[0m\n\u001b[0;32m-> 1010\u001b[0;31m             \u001b[0mconn\u001b[0m\u001b[0;34m.\u001b[0m\u001b[0mconnect\u001b[0m\u001b[0;34m(\u001b[0m\u001b[0;34m)\u001b[0m\u001b[0;34m\u001b[0m\u001b[0;34m\u001b[0m\u001b[0m\n\u001b[0m\u001b[1;32m   1011\u001b[0m \u001b[0;34m\u001b[0m\u001b[0m\n",
      "\u001b[0;32m~/anaconda3/lib/python3.9/site-packages/urllib3/connection.py\u001b[0m in \u001b[0;36mconnect\u001b[0;34m(self)\u001b[0m\n\u001b[1;32m    357\u001b[0m         \u001b[0;31m# Add certificate verification\u001b[0m\u001b[0;34m\u001b[0m\u001b[0;34m\u001b[0m\u001b[0m\n\u001b[0;32m--> 358\u001b[0;31m         \u001b[0mconn\u001b[0m \u001b[0;34m=\u001b[0m \u001b[0mself\u001b[0m\u001b[0;34m.\u001b[0m\u001b[0m_new_conn\u001b[0m\u001b[0;34m(\u001b[0m\u001b[0;34m)\u001b[0m\u001b[0;34m\u001b[0m\u001b[0;34m\u001b[0m\u001b[0m\n\u001b[0m\u001b[1;32m    359\u001b[0m         \u001b[0mhostname\u001b[0m \u001b[0;34m=\u001b[0m \u001b[0mself\u001b[0m\u001b[0;34m.\u001b[0m\u001b[0mhost\u001b[0m\u001b[0;34m\u001b[0m\u001b[0;34m\u001b[0m\u001b[0m\n",
      "\u001b[0;32m~/anaconda3/lib/python3.9/site-packages/urllib3/connection.py\u001b[0m in \u001b[0;36m_new_conn\u001b[0;34m(self)\u001b[0m\n\u001b[1;32m    185\u001b[0m         \u001b[0;32mexcept\u001b[0m \u001b[0mSocketError\u001b[0m \u001b[0;32mas\u001b[0m \u001b[0me\u001b[0m\u001b[0;34m:\u001b[0m\u001b[0;34m\u001b[0m\u001b[0;34m\u001b[0m\u001b[0m\n\u001b[0;32m--> 186\u001b[0;31m             raise NewConnectionError(\n\u001b[0m\u001b[1;32m    187\u001b[0m                 \u001b[0mself\u001b[0m\u001b[0;34m,\u001b[0m \u001b[0;34m\"Failed to establish a new connection: %s\"\u001b[0m \u001b[0;34m%\u001b[0m \u001b[0me\u001b[0m\u001b[0;34m\u001b[0m\u001b[0;34m\u001b[0m\u001b[0m\n",
      "\u001b[0;31mNewConnectionError\u001b[0m: <urllib3.connection.HTTPSConnection object at 0x7feed1313a00>: Failed to establish a new connection: [Errno 101] Network is unreachable",
      "\nDuring handling of the above exception, another exception occurred:\n",
      "\u001b[0;31mMaxRetryError\u001b[0m                             Traceback (most recent call last)",
      "\u001b[0;32m~/anaconda3/lib/python3.9/site-packages/requests/adapters.py\u001b[0m in \u001b[0;36msend\u001b[0;34m(self, request, stream, timeout, verify, cert, proxies)\u001b[0m\n\u001b[1;32m    485\u001b[0m         \u001b[0;32mtry\u001b[0m\u001b[0;34m:\u001b[0m\u001b[0;34m\u001b[0m\u001b[0;34m\u001b[0m\u001b[0m\n\u001b[0;32m--> 486\u001b[0;31m             resp = conn.urlopen(\n\u001b[0m\u001b[1;32m    487\u001b[0m                 \u001b[0mmethod\u001b[0m\u001b[0;34m=\u001b[0m\u001b[0mrequest\u001b[0m\u001b[0;34m.\u001b[0m\u001b[0mmethod\u001b[0m\u001b[0;34m,\u001b[0m\u001b[0;34m\u001b[0m\u001b[0;34m\u001b[0m\u001b[0m\n",
      "\u001b[0;32m~/anaconda3/lib/python3.9/site-packages/urllib3/connectionpool.py\u001b[0m in \u001b[0;36murlopen\u001b[0;34m(self, method, url, body, headers, retries, redirect, assert_same_host, timeout, pool_timeout, release_conn, chunked, body_pos, **response_kw)\u001b[0m\n\u001b[1;32m    754\u001b[0m \u001b[0;34m\u001b[0m\u001b[0m\n\u001b[0;32m--> 755\u001b[0;31m             retries = retries.increment(\n\u001b[0m\u001b[1;32m    756\u001b[0m                 \u001b[0mmethod\u001b[0m\u001b[0;34m,\u001b[0m \u001b[0murl\u001b[0m\u001b[0;34m,\u001b[0m \u001b[0merror\u001b[0m\u001b[0;34m=\u001b[0m\u001b[0me\u001b[0m\u001b[0;34m,\u001b[0m \u001b[0m_pool\u001b[0m\u001b[0;34m=\u001b[0m\u001b[0mself\u001b[0m\u001b[0;34m,\u001b[0m \u001b[0m_stacktrace\u001b[0m\u001b[0;34m=\u001b[0m\u001b[0msys\u001b[0m\u001b[0;34m.\u001b[0m\u001b[0mexc_info\u001b[0m\u001b[0;34m(\u001b[0m\u001b[0;34m)\u001b[0m\u001b[0;34m[\u001b[0m\u001b[0;36m2\u001b[0m\u001b[0;34m]\u001b[0m\u001b[0;34m\u001b[0m\u001b[0;34m\u001b[0m\u001b[0m\n",
      "\u001b[0;32m~/anaconda3/lib/python3.9/site-packages/urllib3/util/retry.py\u001b[0m in \u001b[0;36mincrement\u001b[0;34m(self, method, url, response, error, _pool, _stacktrace)\u001b[0m\n\u001b[1;32m    573\u001b[0m         \u001b[0;32mif\u001b[0m \u001b[0mnew_retry\u001b[0m\u001b[0;34m.\u001b[0m\u001b[0mis_exhausted\u001b[0m\u001b[0;34m(\u001b[0m\u001b[0;34m)\u001b[0m\u001b[0;34m:\u001b[0m\u001b[0;34m\u001b[0m\u001b[0;34m\u001b[0m\u001b[0m\n\u001b[0;32m--> 574\u001b[0;31m             \u001b[0;32mraise\u001b[0m \u001b[0mMaxRetryError\u001b[0m\u001b[0;34m(\u001b[0m\u001b[0m_pool\u001b[0m\u001b[0;34m,\u001b[0m \u001b[0murl\u001b[0m\u001b[0;34m,\u001b[0m \u001b[0merror\u001b[0m \u001b[0;32mor\u001b[0m \u001b[0mResponseError\u001b[0m\u001b[0;34m(\u001b[0m\u001b[0mcause\u001b[0m\u001b[0;34m)\u001b[0m\u001b[0;34m)\u001b[0m\u001b[0;34m\u001b[0m\u001b[0;34m\u001b[0m\u001b[0m\n\u001b[0m\u001b[1;32m    575\u001b[0m \u001b[0;34m\u001b[0m\u001b[0m\n",
      "\u001b[0;31mMaxRetryError\u001b[0m: HTTPSConnectionPool(host='en.wikipedia.org', port=443): Max retries exceeded with url: /w/api.php?prop=extracts&explaintext=&exintro=&titles=List+of+Barbie+animated+films&format=json&action=query (Caused by NewConnectionError('<urllib3.connection.HTTPSConnection object at 0x7feed1313a00>: Failed to establish a new connection: [Errno 101] Network is unreachable'))",
      "\nDuring handling of the above exception, another exception occurred:\n",
      "\u001b[0;31mConnectionError\u001b[0m                           Traceback (most recent call last)",
      "\u001b[0;32m/tmp/ipykernel_58155/3422968690.py\u001b[0m in \u001b[0;36m<module>\u001b[0;34m\u001b[0m\n\u001b[1;32m      1\u001b[0m \u001b[0;32mfrom\u001b[0m \u001b[0mlangchain\u001b[0m\u001b[0;34m.\u001b[0m\u001b[0mdocument_loaders\u001b[0m \u001b[0;32mimport\u001b[0m \u001b[0mWikipediaLoader\u001b[0m\u001b[0;34m,\u001b[0m \u001b[0mCSVLoader\u001b[0m\u001b[0;34m\u001b[0m\u001b[0;34m\u001b[0m\u001b[0m\n\u001b[1;32m      2\u001b[0m \u001b[0;34m\u001b[0m\u001b[0m\n\u001b[0;32m----> 3\u001b[0;31m barbie_wikipedia_docs = WikipediaLoader(\n\u001b[0m\u001b[1;32m      4\u001b[0m     \u001b[0mquery\u001b[0m\u001b[0;34m=\u001b[0m\u001b[0;34m\"Barbie (film)\"\u001b[0m\u001b[0;34m,\u001b[0m\u001b[0;34m\u001b[0m\u001b[0;34m\u001b[0m\u001b[0m\n\u001b[1;32m      5\u001b[0m     \u001b[0mload_max_docs\u001b[0m\u001b[0;34m=\u001b[0m \u001b[0;36m2\u001b[0m\u001b[0;34m,\u001b[0m\u001b[0;31m# YOUR CODE HERE,\u001b[0m\u001b[0;34m\u001b[0m\u001b[0;34m\u001b[0m\u001b[0m\n",
      "\u001b[0;32m~/anaconda3/lib/python3.9/site-packages/langchain/document_loaders/wikipedia.py\u001b[0m in \u001b[0;36mload\u001b[0;34m(self)\u001b[0m\n\u001b[1;32m     56\u001b[0m             \u001b[0mdoc_content_chars_max\u001b[0m\u001b[0;34m=\u001b[0m\u001b[0mself\u001b[0m\u001b[0;34m.\u001b[0m\u001b[0mdoc_content_chars_max\u001b[0m\u001b[0;34m,\u001b[0m\u001b[0;34m\u001b[0m\u001b[0;34m\u001b[0m\u001b[0m\n\u001b[1;32m     57\u001b[0m         )\n\u001b[0;32m---> 58\u001b[0;31m         \u001b[0mdocs\u001b[0m \u001b[0;34m=\u001b[0m \u001b[0mclient\u001b[0m\u001b[0;34m.\u001b[0m\u001b[0mload\u001b[0m\u001b[0;34m(\u001b[0m\u001b[0mself\u001b[0m\u001b[0;34m.\u001b[0m\u001b[0mquery\u001b[0m\u001b[0;34m)\u001b[0m\u001b[0;34m\u001b[0m\u001b[0;34m\u001b[0m\u001b[0m\n\u001b[0m\u001b[1;32m     59\u001b[0m         \u001b[0;32mreturn\u001b[0m \u001b[0mdocs\u001b[0m\u001b[0;34m\u001b[0m\u001b[0;34m\u001b[0m\u001b[0m\n",
      "\u001b[0;32m~/anaconda3/lib/python3.9/site-packages/langchain/utilities/wikipedia.py\u001b[0m in \u001b[0;36mload\u001b[0;34m(self, query)\u001b[0m\n\u001b[1;32m    108\u001b[0m         \u001b[0;32mfor\u001b[0m \u001b[0mpage_title\u001b[0m \u001b[0;32min\u001b[0m \u001b[0mpage_titles\u001b[0m\u001b[0;34m[\u001b[0m\u001b[0;34m:\u001b[0m \u001b[0mself\u001b[0m\u001b[0;34m.\u001b[0m\u001b[0mtop_k_results\u001b[0m\u001b[0;34m]\u001b[0m\u001b[0;34m:\u001b[0m\u001b[0;34m\u001b[0m\u001b[0;34m\u001b[0m\u001b[0m\n\u001b[1;32m    109\u001b[0m             \u001b[0;32mif\u001b[0m \u001b[0mwiki_page\u001b[0m \u001b[0;34m:=\u001b[0m \u001b[0mself\u001b[0m\u001b[0;34m.\u001b[0m\u001b[0m_fetch_page\u001b[0m\u001b[0;34m(\u001b[0m\u001b[0mpage_title\u001b[0m\u001b[0;34m)\u001b[0m\u001b[0;34m:\u001b[0m\u001b[0;34m\u001b[0m\u001b[0;34m\u001b[0m\u001b[0m\n\u001b[0;32m--> 110\u001b[0;31m                 \u001b[0;32mif\u001b[0m \u001b[0mdoc\u001b[0m \u001b[0;34m:=\u001b[0m \u001b[0mself\u001b[0m\u001b[0;34m.\u001b[0m\u001b[0m_page_to_document\u001b[0m\u001b[0;34m(\u001b[0m\u001b[0mpage_title\u001b[0m\u001b[0;34m,\u001b[0m \u001b[0mwiki_page\u001b[0m\u001b[0;34m)\u001b[0m\u001b[0;34m:\u001b[0m\u001b[0;34m\u001b[0m\u001b[0;34m\u001b[0m\u001b[0m\n\u001b[0m\u001b[1;32m    111\u001b[0m                     \u001b[0mdocs\u001b[0m\u001b[0;34m.\u001b[0m\u001b[0mappend\u001b[0m\u001b[0;34m(\u001b[0m\u001b[0mdoc\u001b[0m\u001b[0;34m)\u001b[0m\u001b[0;34m\u001b[0m\u001b[0;34m\u001b[0m\u001b[0m\n\u001b[1;32m    112\u001b[0m         \u001b[0;32mreturn\u001b[0m \u001b[0mdocs\u001b[0m\u001b[0;34m\u001b[0m\u001b[0;34m\u001b[0m\u001b[0m\n",
      "\u001b[0;32m~/anaconda3/lib/python3.9/site-packages/langchain/utilities/wikipedia.py\u001b[0m in \u001b[0;36m_page_to_document\u001b[0;34m(self, page_title, wiki_page)\u001b[0m\n\u001b[1;32m     61\u001b[0m         main_meta = {\n\u001b[1;32m     62\u001b[0m             \u001b[0;34m\"title\"\u001b[0m\u001b[0;34m:\u001b[0m \u001b[0mpage_title\u001b[0m\u001b[0;34m,\u001b[0m\u001b[0;34m\u001b[0m\u001b[0;34m\u001b[0m\u001b[0m\n\u001b[0;32m---> 63\u001b[0;31m             \u001b[0;34m\"summary\"\u001b[0m\u001b[0;34m:\u001b[0m \u001b[0mwiki_page\u001b[0m\u001b[0;34m.\u001b[0m\u001b[0msummary\u001b[0m\u001b[0;34m,\u001b[0m\u001b[0;34m\u001b[0m\u001b[0;34m\u001b[0m\u001b[0m\n\u001b[0m\u001b[1;32m     64\u001b[0m             \u001b[0;34m\"source\"\u001b[0m\u001b[0;34m:\u001b[0m \u001b[0mwiki_page\u001b[0m\u001b[0;34m.\u001b[0m\u001b[0murl\u001b[0m\u001b[0;34m,\u001b[0m\u001b[0;34m\u001b[0m\u001b[0;34m\u001b[0m\u001b[0m\n\u001b[1;32m     65\u001b[0m         }\n",
      "\u001b[0;32m~/anaconda3/lib/python3.9/site-packages/wikipedia/wikipedia.py\u001b[0m in \u001b[0;36msummary\u001b[0;34m(self)\u001b[0m\n\u001b[1;32m    528\u001b[0m          \u001b[0mquery_params\u001b[0m\u001b[0;34m[\u001b[0m\u001b[0;34m'pageids'\u001b[0m\u001b[0;34m]\u001b[0m \u001b[0;34m=\u001b[0m \u001b[0mself\u001b[0m\u001b[0;34m.\u001b[0m\u001b[0mpageid\u001b[0m\u001b[0;34m\u001b[0m\u001b[0;34m\u001b[0m\u001b[0m\n\u001b[1;32m    529\u001b[0m \u001b[0;34m\u001b[0m\u001b[0m\n\u001b[0;32m--> 530\u001b[0;31m       \u001b[0mrequest\u001b[0m \u001b[0;34m=\u001b[0m \u001b[0m_wiki_request\u001b[0m\u001b[0;34m(\u001b[0m\u001b[0mquery_params\u001b[0m\u001b[0;34m)\u001b[0m\u001b[0;34m\u001b[0m\u001b[0;34m\u001b[0m\u001b[0m\n\u001b[0m\u001b[1;32m    531\u001b[0m       \u001b[0mself\u001b[0m\u001b[0;34m.\u001b[0m\u001b[0m_summary\u001b[0m \u001b[0;34m=\u001b[0m \u001b[0mrequest\u001b[0m\u001b[0;34m[\u001b[0m\u001b[0;34m'query'\u001b[0m\u001b[0;34m]\u001b[0m\u001b[0;34m[\u001b[0m\u001b[0;34m'pages'\u001b[0m\u001b[0;34m]\u001b[0m\u001b[0;34m[\u001b[0m\u001b[0mself\u001b[0m\u001b[0;34m.\u001b[0m\u001b[0mpageid\u001b[0m\u001b[0;34m]\u001b[0m\u001b[0;34m[\u001b[0m\u001b[0;34m'extract'\u001b[0m\u001b[0;34m]\u001b[0m\u001b[0;34m\u001b[0m\u001b[0;34m\u001b[0m\u001b[0m\n\u001b[1;32m    532\u001b[0m \u001b[0;34m\u001b[0m\u001b[0m\n",
      "\u001b[0;32m~/anaconda3/lib/python3.9/site-packages/wikipedia/wikipedia.py\u001b[0m in \u001b[0;36m_wiki_request\u001b[0;34m(params)\u001b[0m\n\u001b[1;32m    735\u001b[0m     \u001b[0mtime\u001b[0m\u001b[0;34m.\u001b[0m\u001b[0msleep\u001b[0m\u001b[0;34m(\u001b[0m\u001b[0mint\u001b[0m\u001b[0;34m(\u001b[0m\u001b[0mwait_time\u001b[0m\u001b[0;34m.\u001b[0m\u001b[0mtotal_seconds\u001b[0m\u001b[0;34m(\u001b[0m\u001b[0;34m)\u001b[0m\u001b[0;34m)\u001b[0m\u001b[0;34m)\u001b[0m\u001b[0;34m\u001b[0m\u001b[0;34m\u001b[0m\u001b[0m\n\u001b[1;32m    736\u001b[0m \u001b[0;34m\u001b[0m\u001b[0m\n\u001b[0;32m--> 737\u001b[0;31m   \u001b[0mr\u001b[0m \u001b[0;34m=\u001b[0m \u001b[0mrequests\u001b[0m\u001b[0;34m.\u001b[0m\u001b[0mget\u001b[0m\u001b[0;34m(\u001b[0m\u001b[0mAPI_URL\u001b[0m\u001b[0;34m,\u001b[0m \u001b[0mparams\u001b[0m\u001b[0;34m=\u001b[0m\u001b[0mparams\u001b[0m\u001b[0;34m,\u001b[0m \u001b[0mheaders\u001b[0m\u001b[0;34m=\u001b[0m\u001b[0mheaders\u001b[0m\u001b[0;34m)\u001b[0m\u001b[0;34m\u001b[0m\u001b[0;34m\u001b[0m\u001b[0m\n\u001b[0m\u001b[1;32m    738\u001b[0m \u001b[0;34m\u001b[0m\u001b[0m\n\u001b[1;32m    739\u001b[0m   \u001b[0;32mif\u001b[0m \u001b[0mRATE_LIMIT\u001b[0m\u001b[0;34m:\u001b[0m\u001b[0;34m\u001b[0m\u001b[0;34m\u001b[0m\u001b[0m\n",
      "\u001b[0;32m~/anaconda3/lib/python3.9/site-packages/requests/api.py\u001b[0m in \u001b[0;36mget\u001b[0;34m(url, params, **kwargs)\u001b[0m\n\u001b[1;32m     71\u001b[0m     \"\"\"\n\u001b[1;32m     72\u001b[0m \u001b[0;34m\u001b[0m\u001b[0m\n\u001b[0;32m---> 73\u001b[0;31m     \u001b[0;32mreturn\u001b[0m \u001b[0mrequest\u001b[0m\u001b[0;34m(\u001b[0m\u001b[0;34m\"get\"\u001b[0m\u001b[0;34m,\u001b[0m \u001b[0murl\u001b[0m\u001b[0;34m,\u001b[0m \u001b[0mparams\u001b[0m\u001b[0;34m=\u001b[0m\u001b[0mparams\u001b[0m\u001b[0;34m,\u001b[0m \u001b[0;34m**\u001b[0m\u001b[0mkwargs\u001b[0m\u001b[0;34m)\u001b[0m\u001b[0;34m\u001b[0m\u001b[0;34m\u001b[0m\u001b[0m\n\u001b[0m\u001b[1;32m     74\u001b[0m \u001b[0;34m\u001b[0m\u001b[0m\n\u001b[1;32m     75\u001b[0m \u001b[0;34m\u001b[0m\u001b[0m\n",
      "\u001b[0;32m~/anaconda3/lib/python3.9/site-packages/requests/api.py\u001b[0m in \u001b[0;36mrequest\u001b[0;34m(method, url, **kwargs)\u001b[0m\n\u001b[1;32m     57\u001b[0m     \u001b[0;31m# cases, and look like a memory leak in others.\u001b[0m\u001b[0;34m\u001b[0m\u001b[0;34m\u001b[0m\u001b[0m\n\u001b[1;32m     58\u001b[0m     \u001b[0;32mwith\u001b[0m \u001b[0msessions\u001b[0m\u001b[0;34m.\u001b[0m\u001b[0mSession\u001b[0m\u001b[0;34m(\u001b[0m\u001b[0;34m)\u001b[0m \u001b[0;32mas\u001b[0m \u001b[0msession\u001b[0m\u001b[0;34m:\u001b[0m\u001b[0;34m\u001b[0m\u001b[0;34m\u001b[0m\u001b[0m\n\u001b[0;32m---> 59\u001b[0;31m         \u001b[0;32mreturn\u001b[0m \u001b[0msession\u001b[0m\u001b[0;34m.\u001b[0m\u001b[0mrequest\u001b[0m\u001b[0;34m(\u001b[0m\u001b[0mmethod\u001b[0m\u001b[0;34m=\u001b[0m\u001b[0mmethod\u001b[0m\u001b[0;34m,\u001b[0m \u001b[0murl\u001b[0m\u001b[0;34m=\u001b[0m\u001b[0murl\u001b[0m\u001b[0;34m,\u001b[0m \u001b[0;34m**\u001b[0m\u001b[0mkwargs\u001b[0m\u001b[0;34m)\u001b[0m\u001b[0;34m\u001b[0m\u001b[0;34m\u001b[0m\u001b[0m\n\u001b[0m\u001b[1;32m     60\u001b[0m \u001b[0;34m\u001b[0m\u001b[0m\n\u001b[1;32m     61\u001b[0m \u001b[0;34m\u001b[0m\u001b[0m\n",
      "\u001b[0;32m~/anaconda3/lib/python3.9/site-packages/requests/sessions.py\u001b[0m in \u001b[0;36mrequest\u001b[0;34m(self, method, url, params, data, headers, cookies, files, auth, timeout, allow_redirects, proxies, hooks, stream, verify, cert, json)\u001b[0m\n\u001b[1;32m    587\u001b[0m         }\n\u001b[1;32m    588\u001b[0m         \u001b[0msend_kwargs\u001b[0m\u001b[0;34m.\u001b[0m\u001b[0mupdate\u001b[0m\u001b[0;34m(\u001b[0m\u001b[0msettings\u001b[0m\u001b[0;34m)\u001b[0m\u001b[0;34m\u001b[0m\u001b[0;34m\u001b[0m\u001b[0m\n\u001b[0;32m--> 589\u001b[0;31m         \u001b[0mresp\u001b[0m \u001b[0;34m=\u001b[0m \u001b[0mself\u001b[0m\u001b[0;34m.\u001b[0m\u001b[0msend\u001b[0m\u001b[0;34m(\u001b[0m\u001b[0mprep\u001b[0m\u001b[0;34m,\u001b[0m \u001b[0;34m**\u001b[0m\u001b[0msend_kwargs\u001b[0m\u001b[0;34m)\u001b[0m\u001b[0;34m\u001b[0m\u001b[0;34m\u001b[0m\u001b[0m\n\u001b[0m\u001b[1;32m    590\u001b[0m \u001b[0;34m\u001b[0m\u001b[0m\n\u001b[1;32m    591\u001b[0m         \u001b[0;32mreturn\u001b[0m \u001b[0mresp\u001b[0m\u001b[0;34m\u001b[0m\u001b[0;34m\u001b[0m\u001b[0m\n",
      "\u001b[0;32m~/anaconda3/lib/python3.9/site-packages/requests/sessions.py\u001b[0m in \u001b[0;36msend\u001b[0;34m(self, request, **kwargs)\u001b[0m\n\u001b[1;32m    723\u001b[0m             \u001b[0;31m# Redirect resolving generator.\u001b[0m\u001b[0;34m\u001b[0m\u001b[0;34m\u001b[0m\u001b[0m\n\u001b[1;32m    724\u001b[0m             \u001b[0mgen\u001b[0m \u001b[0;34m=\u001b[0m \u001b[0mself\u001b[0m\u001b[0;34m.\u001b[0m\u001b[0mresolve_redirects\u001b[0m\u001b[0;34m(\u001b[0m\u001b[0mr\u001b[0m\u001b[0;34m,\u001b[0m \u001b[0mrequest\u001b[0m\u001b[0;34m,\u001b[0m \u001b[0;34m**\u001b[0m\u001b[0mkwargs\u001b[0m\u001b[0;34m)\u001b[0m\u001b[0;34m\u001b[0m\u001b[0;34m\u001b[0m\u001b[0m\n\u001b[0;32m--> 725\u001b[0;31m             \u001b[0mhistory\u001b[0m \u001b[0;34m=\u001b[0m \u001b[0;34m[\u001b[0m\u001b[0mresp\u001b[0m \u001b[0;32mfor\u001b[0m \u001b[0mresp\u001b[0m \u001b[0;32min\u001b[0m \u001b[0mgen\u001b[0m\u001b[0;34m]\u001b[0m\u001b[0;34m\u001b[0m\u001b[0;34m\u001b[0m\u001b[0m\n\u001b[0m\u001b[1;32m    726\u001b[0m         \u001b[0;32melse\u001b[0m\u001b[0;34m:\u001b[0m\u001b[0;34m\u001b[0m\u001b[0;34m\u001b[0m\u001b[0m\n\u001b[1;32m    727\u001b[0m             \u001b[0mhistory\u001b[0m \u001b[0;34m=\u001b[0m \u001b[0;34m[\u001b[0m\u001b[0;34m]\u001b[0m\u001b[0;34m\u001b[0m\u001b[0;34m\u001b[0m\u001b[0m\n",
      "\u001b[0;32m~/anaconda3/lib/python3.9/site-packages/requests/sessions.py\u001b[0m in \u001b[0;36m<listcomp>\u001b[0;34m(.0)\u001b[0m\n\u001b[1;32m    723\u001b[0m             \u001b[0;31m# Redirect resolving generator.\u001b[0m\u001b[0;34m\u001b[0m\u001b[0;34m\u001b[0m\u001b[0m\n\u001b[1;32m    724\u001b[0m             \u001b[0mgen\u001b[0m \u001b[0;34m=\u001b[0m \u001b[0mself\u001b[0m\u001b[0;34m.\u001b[0m\u001b[0mresolve_redirects\u001b[0m\u001b[0;34m(\u001b[0m\u001b[0mr\u001b[0m\u001b[0;34m,\u001b[0m \u001b[0mrequest\u001b[0m\u001b[0;34m,\u001b[0m \u001b[0;34m**\u001b[0m\u001b[0mkwargs\u001b[0m\u001b[0;34m)\u001b[0m\u001b[0;34m\u001b[0m\u001b[0;34m\u001b[0m\u001b[0m\n\u001b[0;32m--> 725\u001b[0;31m             \u001b[0mhistory\u001b[0m \u001b[0;34m=\u001b[0m \u001b[0;34m[\u001b[0m\u001b[0mresp\u001b[0m \u001b[0;32mfor\u001b[0m \u001b[0mresp\u001b[0m \u001b[0;32min\u001b[0m \u001b[0mgen\u001b[0m\u001b[0;34m]\u001b[0m\u001b[0;34m\u001b[0m\u001b[0;34m\u001b[0m\u001b[0m\n\u001b[0m\u001b[1;32m    726\u001b[0m         \u001b[0;32melse\u001b[0m\u001b[0;34m:\u001b[0m\u001b[0;34m\u001b[0m\u001b[0;34m\u001b[0m\u001b[0m\n\u001b[1;32m    727\u001b[0m             \u001b[0mhistory\u001b[0m \u001b[0;34m=\u001b[0m \u001b[0;34m[\u001b[0m\u001b[0;34m]\u001b[0m\u001b[0;34m\u001b[0m\u001b[0;34m\u001b[0m\u001b[0m\n",
      "\u001b[0;32m~/anaconda3/lib/python3.9/site-packages/requests/sessions.py\u001b[0m in \u001b[0;36mresolve_redirects\u001b[0;34m(self, resp, req, stream, timeout, verify, cert, proxies, yield_requests, **adapter_kwargs)\u001b[0m\n\u001b[1;32m    264\u001b[0m             \u001b[0;32melse\u001b[0m\u001b[0;34m:\u001b[0m\u001b[0;34m\u001b[0m\u001b[0;34m\u001b[0m\u001b[0m\n\u001b[1;32m    265\u001b[0m \u001b[0;34m\u001b[0m\u001b[0m\n\u001b[0;32m--> 266\u001b[0;31m                 resp = self.send(\n\u001b[0m\u001b[1;32m    267\u001b[0m                     \u001b[0mreq\u001b[0m\u001b[0;34m,\u001b[0m\u001b[0;34m\u001b[0m\u001b[0;34m\u001b[0m\u001b[0m\n\u001b[1;32m    268\u001b[0m                     \u001b[0mstream\u001b[0m\u001b[0;34m=\u001b[0m\u001b[0mstream\u001b[0m\u001b[0;34m,\u001b[0m\u001b[0;34m\u001b[0m\u001b[0;34m\u001b[0m\u001b[0m\n",
      "\u001b[0;32m~/anaconda3/lib/python3.9/site-packages/requests/sessions.py\u001b[0m in \u001b[0;36msend\u001b[0;34m(self, request, **kwargs)\u001b[0m\n\u001b[1;32m    701\u001b[0m \u001b[0;34m\u001b[0m\u001b[0m\n\u001b[1;32m    702\u001b[0m         \u001b[0;31m# Send the request\u001b[0m\u001b[0;34m\u001b[0m\u001b[0;34m\u001b[0m\u001b[0m\n\u001b[0;32m--> 703\u001b[0;31m         \u001b[0mr\u001b[0m \u001b[0;34m=\u001b[0m \u001b[0madapter\u001b[0m\u001b[0;34m.\u001b[0m\u001b[0msend\u001b[0m\u001b[0;34m(\u001b[0m\u001b[0mrequest\u001b[0m\u001b[0;34m,\u001b[0m \u001b[0;34m**\u001b[0m\u001b[0mkwargs\u001b[0m\u001b[0;34m)\u001b[0m\u001b[0;34m\u001b[0m\u001b[0;34m\u001b[0m\u001b[0m\n\u001b[0m\u001b[1;32m    704\u001b[0m \u001b[0;34m\u001b[0m\u001b[0m\n\u001b[1;32m    705\u001b[0m         \u001b[0;31m# Total elapsed time of the request (approximately)\u001b[0m\u001b[0;34m\u001b[0m\u001b[0;34m\u001b[0m\u001b[0m\n",
      "\u001b[0;32m~/anaconda3/lib/python3.9/site-packages/requests/adapters.py\u001b[0m in \u001b[0;36msend\u001b[0;34m(self, request, stream, timeout, verify, cert, proxies)\u001b[0m\n\u001b[1;32m    517\u001b[0m                 \u001b[0;32mraise\u001b[0m \u001b[0mSSLError\u001b[0m\u001b[0;34m(\u001b[0m\u001b[0me\u001b[0m\u001b[0;34m,\u001b[0m \u001b[0mrequest\u001b[0m\u001b[0;34m=\u001b[0m\u001b[0mrequest\u001b[0m\u001b[0;34m)\u001b[0m\u001b[0;34m\u001b[0m\u001b[0;34m\u001b[0m\u001b[0m\n\u001b[1;32m    518\u001b[0m \u001b[0;34m\u001b[0m\u001b[0m\n\u001b[0;32m--> 519\u001b[0;31m             \u001b[0;32mraise\u001b[0m \u001b[0mConnectionError\u001b[0m\u001b[0;34m(\u001b[0m\u001b[0me\u001b[0m\u001b[0;34m,\u001b[0m \u001b[0mrequest\u001b[0m\u001b[0;34m=\u001b[0m\u001b[0mrequest\u001b[0m\u001b[0;34m)\u001b[0m\u001b[0;34m\u001b[0m\u001b[0;34m\u001b[0m\u001b[0m\n\u001b[0m\u001b[1;32m    520\u001b[0m \u001b[0;34m\u001b[0m\u001b[0m\n\u001b[1;32m    521\u001b[0m         \u001b[0;32mexcept\u001b[0m \u001b[0mClosedPoolError\u001b[0m \u001b[0;32mas\u001b[0m \u001b[0me\u001b[0m\u001b[0;34m:\u001b[0m\u001b[0;34m\u001b[0m\u001b[0;34m\u001b[0m\u001b[0m\n",
      "\u001b[0;31mConnectionError\u001b[0m: HTTPSConnectionPool(host='en.wikipedia.org', port=443): Max retries exceeded with url: /w/api.php?prop=extracts&explaintext=&exintro=&titles=List+of+Barbie+animated+films&format=json&action=query (Caused by NewConnectionError('<urllib3.connection.HTTPSConnection object at 0x7feed1313a00>: Failed to establish a new connection: [Errno 101] Network is unreachable'))"
     ]
    }
   ],
   "source": [
    "from langchain.document_loaders import WikipediaLoader, CSVLoader\n",
    "\n",
    "barbie_wikipedia_docs = WikipediaLoader(\n",
    "    query=\"Barbie (film)\", \n",
    "    load_max_docs= 2,# YOUR CODE HERE, \n",
    "    doc_content_chars_max=4000### YOUR CODE HERE\n",
    "    ).load()\n",
    "\n"
   ]
  },
  {
   "cell_type": "code",
   "execution_count": 16,
   "metadata": {},
   "outputs": [],
   "source": [
    "barbie_csv_docs = CSVLoader(\n",
    "    file_path='barbie_data/barbie.csv',### YOUR CODE HERE, \n",
    "    source_column='Review_Url'### YOUR CODE HERE\n",
    "    ).load()"
   ]
  },
  {
   "cell_type": "code",
   "execution_count": 17,
   "metadata": {},
   "outputs": [
    {
     "name": "stdout",
     "output_type": "stream",
     "text": [
      "[Document(page_content='Barbie is a 2023 American fantasy comedy film directed by Greta Gerwig from a screenplay she wrote with Noah Baumbach. Based on the Barbie fashion dolls by Mattel, it is the first live-action Barbie film after numerous computer-animated films and specials. The film follows Barbie (Margot Robbie) and Ken (Ryan Gosling) on a journey of self-discovery following an existential crisis. It features an ensemble supporting cast, including America Ferrera, Kate McKinnon, Helen Mirren, Issa Rae, Simu Liu, Michael Cera, Rhea Perlman, and Will Ferrell.\\nA live-action Barbie film was announced in September 2009 by Universal Pictures with Laurence Mark producing. Development began in April 2014, when Sony Pictures acquired the film rights. Following multiple writer and director changes and the casting of Amy Schumer and later Anne Hathaway as Barbie, the rights were transferred to Warner Bros. Pictures in October 2018. Robbie was cast in 2019, after Gal Gadot turned down the role due to scheduling conflicts, and Gerwig was announced as director and co-writer with Baumbach in 2020. The rest of the cast were announced in early 2022. Filming took place primarily at Warner Bros. Studios, Leavesden, in England and at the Venice Beach Skatepark in Los Angeles from March to July 2022.\\nBarbie premiered at the Shrine Auditorium in Los Angeles on July 9, 2023, and was theatrically released in the United States on July 21 by Warner Bros. Pictures. Its simultaneous release with Universal\\'s Oppenheimer led to the \"Barbenheimer\" cultural phenomenon, which encouraged audiences to see both films as a double feature. The film received critical acclaim and has grossed $1.29 billion worldwide, becoming the second highest-grossing film of 2023 behind The Super Mario Bros. Movie, as well as the highest-grossing film directed solely by a woman and the 20th highest-grossing film of all time.\\n\\n\\n== Plot ==\\nStereotypical Barbie (\"Barbie\") and fellow dolls reside in Barbieland; a matriarchal society with different variations of Barbies, Kens, and a group of discontinued models, who are treated like outcasts due to their unconventional traits. While the Kens spend their days playing at the beach, considering it as their profession, the Barbies hold prestigious jobs such as doctors, lawyers, and politicians. Beach Ken (\"Ken\") is only happy when he is with Barbie and seeks a closer relationship, but Barbie rebuffs him in favor of other activities and female friendships.\\nOne evening at a dance party, Barbie is suddenly stricken with worries about mortality. Overnight, she develops bad breath, cellulite, and flat feet, disrupting her usual routines the next day. Weird Barbie, an outcast due to her disfigurement, tells her she must find the child playing with her in the real world to cure her afflictions. Ken stows away in her convertible hoping to join her on the journey, to which Barbie reluctantly agrees.\\nArriving at Venice Beach, Barbie punches a man for groping her, leading to her and Ken\\'s brief arrest. Alarmed by their presence, Mattel\\'s CEO orders their recapture. Barbie tracks down her owner, a tween girl named Sasha, who criticizes her for encouraging unrealistic beauty standards. Distraught, Barbie discovers that Gloria, a Mattel employee and Sasha\\'s mother, inadvertently catalyzed her existential crisis after Gloria began playing with Sasha\\'s old Barbie toys in a similar state. Mattel attempts to put Barbie in a toy box for remanufacturing, but she escapes with Gloria and Sasha\\'s help and the three travel to Barbieland with Mattel executives in pursuit.\\nMeanwhile, Ken learns about the patriarchal system and feels respected for the first time. Returning to Barbieland, he persuades the other Kens to take over, and the Barbies are indoctrinated into submissive roles, such as agreeable girlfriends, housewives, and maids. Barbie arrives and unsuccessfully tries to convince Ken and the Barbies to return to the way things were. She becomes depressed, but Gloria gives a', metadata={'title': 'Barbie (film)', 'summary': 'Barbie is a 2023 American fantasy comedy film directed by Greta Gerwig from a screenplay she wrote with Noah Baumbach. Based on the Barbie fashion dolls by Mattel, it is the first live-action Barbie film after numerous computer-animated films and specials. The film follows Barbie (Margot Robbie) and Ken (Ryan Gosling) on a journey of self-discovery following an existential crisis. It features an ensemble supporting cast, including America Ferrera, Kate McKinnon, Helen Mirren, Issa Rae, Simu Liu, Michael Cera, Rhea Perlman, and Will Ferrell.\\nA live-action Barbie film was announced in September 2009 by Universal Pictures with Laurence Mark producing. Development began in April 2014, when Sony Pictures acquired the film rights. Following multiple writer and director changes and the casting of Amy Schumer and later Anne Hathaway as Barbie, the rights were transferred to Warner Bros. Pictures in October 2018. Robbie was cast in 2019, after Gal Gadot turned down the role due to scheduling conflicts, and Gerwig was announced as director and co-writer with Baumbach in 2020. The rest of the cast were announced in early 2022. Filming took place primarily at Warner Bros. Studios, Leavesden, in England and at the Venice Beach Skatepark in Los Angeles from March to July 2022.\\nBarbie premiered at the Shrine Auditorium in Los Angeles on July 9, 2023, and was theatrically released in the United States on July 21 by Warner Bros. Pictures. Its simultaneous release with Universal\\'s Oppenheimer led to the \"Barbenheimer\" cultural phenomenon, which encouraged audiences to see both films as a double feature. The film received critical acclaim and has grossed $1.29 billion worldwide, becoming the second highest-grossing film of 2023 behind The Super Mario Bros. Movie, as well as the highest-grossing film directed solely by a woman and the 20th highest-grossing film of all time.', 'source': 'https://en.wikipedia.org/wiki/Barbie_(film)'}), Document(page_content='A complete list of CGI or computer-animated feature films and streaming television films starring or featuring Barbie, a fashion doll manufactured by American toy and entertainment company Mattel, is as follows.\\nIn response to a growing rise of digital and interactive media as well as the gradual decline of the sales in dolls, toys and accessories in the 1980s, Mattel partnered with animation studios to produce films which were broadcast on Nickelodeon in the United States from 2002 and released on home video formats, originally by Family Home Entertainment and successor Lionsgate, and then predominantly by Universal Pictures Home Entertainment, both until 2017. From 2012 onwards, Mattel expanded the franchise beyond just the films to other audiovisual media such as web series, television shows and streaming television content, with the latter following the growing trend of streaming services and online platforms. In 2020, Mattel revamped the films into streaming television films, branding them as animated \"specials\" and integrating them into the canon of the inaugural television show in the Barbie media franchise, Barbie: Dreamhouse Adventures. Additionally, a live-action adaptation of the toyline was theatrically released on 21 July 2023 by Warner Bros. and Mattel Films, alongside LuckyChap Entertainment and Heyday Films.\\n\\n\\n== Adaptations and original plots (2001–2009) ==\\nMattel launched its eponymous in-house entertainment division in 2001 and began the Barbie film series by adapting pre-existing stories/tales, with CGI animation provided by Canadian studio Mainframe Entertainment. Elise Allen introduced original storylines to the series through screenwriting the main entries of the Barbie: Fairytopia franchise. In between their co-productions, American studio Curious Pictures pitched in by animating The Barbie Diaries (2006).\\nIn 2007, Mainframe was purchased by the Rainmaker Income Fund, subsequently rebranding as Rainmaker Entertainment the following year. The films were originally distributed on VHS and DVD by Artisan Entertainment and Family Home Entertainment from 2001 until 2004, when both were acquired by and folded into Lionsgate. In 2006, Mattel ceased distribution of the films on VHS and focused solely on DVD; at the same time, Universal (which had already held foreign distribution rights) took over the domestic distribution rights, after negotiations with Lionsgate broke down over the low amount offered by Mattel to continue distributing future Barbie films. Lionsgate was permitted to continue distribution of the titles released by them up to The Barbie Diaries for several years after; these rights eventually reverted to Mattel, who then authorized Universal to begin reissuing these titles.\\n\\n\\n=== Barbie in the Nutcracker (2001) ===\\nBased on The Nutcracker and the Mouse King by E. T. A. Hoffmann and The Nutcracker ballet music by Pyotr Illych Tchaikovsky, this inaugural film in the series stars Barbie narrating a story to her younger sister, Kelly, a story about a young girl named Clara who gets a beautiful wooden nutcracker from her aunt Elizabeth as a Christmas gift. Later that night, the toy comes alive to protect Clara from the evil Mouse King\\'s soldiers. Clara gets shrunk to toy size and along with her brave Nutcracker goes in search of a magical Sugarplum Princess to reverse a spell. In the midst of the adventure is the live nutcracker toy dancing with Clara at two intervals in the film.\\n\\n\\n=== Barbie as Rapunzel (2002) ===\\nThis 2nd entry based on the classic tale by the Brothers Grimm stars Barbie as Rapunzel, who is trapped in a tall tower by an evil witch. Hidden from the outside world, Rapunzel spends much of her day painting and dreaming of a happier life. After many years alone Rapunzel goes on a journey with her friends Penelope and Hobie to find her happily ever after. Written by Leila Kramer\\n\\n\\n=== Barbie of Swan Lake (2003) ===\\nThe 2nd ballet Barbie film in the franchise. Based on the Swan Lake balle', metadata={'title': 'List of Barbie animated films', 'summary': 'A complete list of CGI or computer-animated feature films and streaming television films starring or featuring Barbie, a fashion doll manufactured by American toy and entertainment company Mattel, is as follows.\\nIn response to a growing rise of digital and interactive media as well as the gradual decline of the sales in dolls, toys and accessories in the 1980s, Mattel partnered with animation studios to produce films which were broadcast on Nickelodeon in the United States from 2002 and released on home video formats, originally by Family Home Entertainment and successor Lionsgate, and then predominantly by Universal Pictures Home Entertainment, both until 2017. From 2012 onwards, Mattel expanded the franchise beyond just the films to other audiovisual media such as web series, television shows and streaming television content, with the latter following the growing trend of streaming services and online platforms. In 2020, Mattel revamped the films into streaming television films, branding them as animated \"specials\" and integrating them into the canon of the inaugural television show in the Barbie media franchise, Barbie: Dreamhouse Adventures. Additionally, a live-action adaptation of the toyline was theatrically released on 21 July 2023 by Warner Bros. and Mattel Films, alongside LuckyChap Entertainment and Heyday Films.\\n\\n', 'source': 'https://en.wikipedia.org/wiki/List_of_Barbie_animated_films'})]\n"
     ]
    }
   ],
   "source": [
    "print(barbie_wikipedia_docs)"
   ]
  },
  {
   "cell_type": "markdown",
   "metadata": {},
   "source": [
    "Since we'll be using same format source documentation separated by topic, we can save ourselves some extra effort and set up our splitters once. \n",
    "\n",
    "We're going to leverage the `RecursiveCharacterTextSplitter` again, this time paying close attention to the format our Wikipedia articles and reviews are in so we can be sure to chunk them appropritately. \n",
    "\n",
    "> HINT: You can pass a list of separators when you intialize your `RecursiveTextSplitter`! They are acted on in order of element 0 -> element len(list).\n",
    "\n",
    "RELEVANT DOCS:\n",
    "- [`RecursiveCharacterTextSplitter`](https://api.python.langchain.com/en/latest/text_splitter/langchain.text_splitter.RecursiveCharacterTextSplitter.html#langchain.text_splitter.RecursiveCharacterTextSplitter)"
   ]
  },
  {
   "cell_type": "code",
   "execution_count": 18,
   "metadata": {},
   "outputs": [],
   "source": [
    "from langchain.text_splitter import RecursiveCharacterTextSplitter\n",
    "\n",
    "wikipedia_text_splitter = RecursiveCharacterTextSplitter(\n",
    "    chunk_size =1000, ### YOUR CODE HERE,\n",
    "    chunk_overlap =20, ### YOUR CODE HERE,\n",
    "    length_function =len, ### YOUR CODE HERE,\n",
    "    is_separator_regex= False,\n",
    "    separators = '.'### YOUR CODE HERE # keep headings, then paragraphs, then sentences\n",
    ")\n",
    "\n",
    "csv_text_splitter = RecursiveCharacterTextSplitter(\n",
    "    chunk_size =1000, ### YOUR CODE HERE,\n",
    "    chunk_overlap =20, ### YOUR CODE HERE,\n",
    "    length_function =len, ### YOUR CODE HERE,\n",
    "    is_separator_regex= False,\n",
    "    separators ='\\n' ### YOUR CODE HERE # keep paragraphs, then sentences\n",
    ")\n",
    "\n",
    "\n",
    "chunked_barbie_wikipedia_docs = wikipedia_text_splitter.create_documents([ doc.page_content for doc in barbie_wikipedia_docs])### YOUR CODE HERE\n",
    "chunked_barbie_csv_docs = csv_text_splitter.create_documents([doc.page_content for doc in barbie_csv_docs]) ### YOUR CODE HERE"
   ]
  },
  {
   "cell_type": "code",
   "execution_count": 19,
   "metadata": {},
   "outputs": [
    {
     "name": "stdout",
     "output_type": "stream",
     "text": [
      "161\n"
     ]
    }
   ],
   "source": [
    "print(len(chunked_barbie_csv_docs))"
   ]
  },
  {
   "cell_type": "code",
   "execution_count": 20,
   "metadata": {},
   "outputs": [
    {
     "name": "stdout",
     "output_type": "stream",
     "text": [
      "page_content=': 0\\nReview_Date: 21 July 2023\\nAuthor: LoveofLegacy\\nRating: 6\\nReview_Title: Beautiful film, but so preachy\\nReview: Margot does the best with what she\\'s given, but this film was very disappointing to me. It was marketed as a fun, quirky satire with homages to other movies. It started that way, but ended with over-dramatized speeches and an ending that clearly tried to make the audience feel something, but left everyone just feeling confused. And before you say I\\'m a crotchety old man, I\\'m a woman in my 20s, so I\\'m pretty sure I\\'m this movie\\'s target audience. The saddest part is there were parents with their kids in the theater that were victims of the poor marketing, because this is not a kid\\'s movie. Overall, the humor was fun on occasion and the film is beautiful to look at, but the whole concept falls apart in the second half of the film and becomes a pity party for the \"strong\" woman.\\nReview_Url: /review/rw9199947/?ref_=tt_urv' metadata={}\n"
     ]
    }
   ],
   "source": [
    "print(chunked_barbie_csv_docs[0])"
   ]
  },
  {
   "cell_type": "markdown",
   "metadata": {},
   "source": [
    "#### Retrieval and Embedding Strategy\n",
    "\n",
    "We've already discussed the useful application of `CacheBackedEmbeddings`, so let's do it again!\n",
    "\n",
    "RELEVANT DOCS:\n",
    "- [`CacheBackedEmbeddings`](https://api.python.langchain.com/en/latest/embeddings/langchain.embeddings.cache.CacheBackedEmbeddings.html#langchain-embeddings-cache-cachebackedembeddings)"
   ]
  },
  {
   "cell_type": "code",
   "execution_count": 30,
   "metadata": {},
   "outputs": [],
   "source": [
    "!pip install -q -U rank_bm25 tiktoken faiss-cpu"
   ]
  },
  {
   "cell_type": "code",
   "execution_count": 21,
   "metadata": {},
   "outputs": [],
   "source": [
    "from langchain.retrievers import BM25Retriever, EnsembleRetriever\n",
    "from langchain.vectorstores import FAISS\n",
    "from langchain.embeddings.openai import OpenAIEmbeddings\n",
    "from langchain.embeddings import CacheBackedEmbeddings\n",
    "from langchain.storage import LocalFileStore\n",
    "\n",
    "# set up cached embeddings store\n",
    "store = LocalFileStore(\"./test_cache/\") ### YOUR CODE HERE\n",
    "\n",
    "core_embeddings_model = OpenAIEmbeddings() ### YOUR CODE HERE\n",
    "\n",
    "embedder =  CacheBackedEmbeddings.from_bytes_store(core_embeddings_model, store, namespace=core_embeddings_model.model) ### YOUR CODE HERE"
   ]
  },
  {
   "cell_type": "markdown",
   "metadata": {},
   "source": [
    "We'll implement a `FAISS` vectorstore, and create a retriever from it."
   ]
  },
  {
   "cell_type": "code",
   "execution_count": 22,
   "metadata": {},
   "outputs": [],
   "source": [
    "barbie_csv_faiss_retriever =  FAISS.from_documents(chunked_barbie_csv_docs, embedder) ### YOUR CODE HERE\n"
   ]
  },
  {
   "cell_type": "markdown",
   "metadata": {},
   "source": [
    "There are a number of excellent options to retrieve documents - we'll be looking at an additional example today, which is called the `EnsembleRetriever`.\n",
    "\n",
    "The method this is using is outlined in [this paper](https://plg.uwaterloo.ca/~gvcormac/cormacksigir09-rrf.pdf).\n",
    "\n",
    "The brief explanation is:\n",
    "\n",
    "1. We collect results from two different retrieval methods over the same corpus\n",
    "2. We apply a reranking algorithm to rerank our source documents to be the *most relevant* without losing specific or potentially low-ranked information rich documents\n",
    "3. We feed the top-k results into the LLM with our query as context.\n",
    "\n",
    "> HINT: Your weight list should be of type `List[float]` and the `sum(List[float])` should be `1`."
   ]
  },
  {
   "cell_type": "code",
   "execution_count": 23,
   "metadata": {},
   "outputs": [],
   "source": [
    "# set up BM25 retriever\n",
    "barbie_wikipedia_bm25_retriever = BM25Retriever.from_documents(\n",
    "   chunked_barbie_wikipedia_docs ### YOUR CODE HERE\n",
    ")\n",
    "barbie_wikipedia_bm25_retriever.k = 1\n",
    "\n",
    "# set up FAISS vector store\n",
    "barbie_wikipedia_faiss_store = FAISS.from_documents(\n",
    "   chunked_barbie_wikipedia_docs, ### YOUR CODE HERE,\n",
    "   embedder ### YOUR CODE HERE\n",
    ")\n",
    "barbie_wikipedia_faiss_retriever = barbie_wikipedia_faiss_store.as_retriever(search_kwargs={\"k\": 1})\n",
    "\n",
    "# set up ensemble retriever\n",
    "barbie_ensemble_retriever = EnsembleRetriever(\n",
    "    retrievers=[barbie_wikipedia_bm25_retriever, barbie_wikipedia_faiss_retriever],### YOUR CODE HERE,\n",
    "    weights= [0.5,0.5]### YOUR CODE HERE # should sum to 1\n",
    ")"
   ]
  },
  {
   "cell_type": "markdown",
   "metadata": {},
   "source": [
    "#### Retrieval Agent\n",
    "\n",
    "We can create a simple conversational retrieval Agent by using the built-ins provided by LangChain!\n",
    "\n",
    "> HINT: Be sure to provide good natural language descriptions of what the tool should be used for to get the best results.\n",
    "\n",
    "RELEVANT DOCS:\n",
    "- [`create_retriever_tool`](https://api.python.langchain.com/en/latest/agents/langchain.agents.agent_toolkits.conversational_retrieval.tool.create_retriever_tool.html#langchain.agents.agent_toolkits.conversational_retrieval.tool.create_retriever_tool)"
   ]
  },
  {
   "cell_type": "code",
   "execution_count": 24,
   "metadata": {},
   "outputs": [],
   "source": [
    "from langchain.agents.agent_toolkits import create_retriever_tool\n",
    "\n",
    "barbie_wikipedia_retrieval_tool = create_retriever_tool(\n",
    "   barbie_wikipedia_faiss_retriever, ### YOUR CODE HERE \n",
    "   'search_barbie_on_wikipedia', ### YOUR CODE HERE\n",
    "   'Searches and returns documents regarding the barbie on wikipedia.' ### YOUR CODE HERE\n",
    ")\n",
    "\n",
    "barbie_csv_retrieval_tool = create_retriever_tool(\n",
    "   barbie_csv_faiss_retriever.as_retriever(), ### YOUR CODE HERE\n",
    "   'search_barbie_on_csv', ### YOUR CODE HERE\n",
    "   'Searches and returns documents regarding the barbie on provided csv' ### YOUR CODE HERE\n",
    ")\n",
    "\n",
    "barbie_retriever_tools = [barbie_wikipedia_retrieval_tool,barbie_csv_retrieval_tool]### YOUR CODE HERE"
   ]
  },
  {
   "cell_type": "markdown",
   "metadata": {},
   "source": [
    "Now that we've created our tools, we can combined them into an agent!\n",
    "\n",
    "RELEVANT DOCS:\n",
    "- [`create_conversational_retrieval_agent`](https://api.python.langchain.com/en/latest/agents/langchain.agents.agent_toolkits.conversational_retrieval.openai_functions.create_conversational_retrieval_agent.html#langchain.agents.agent_toolkits.conversational_retrieval.openai_functions.create_conversational_retrieval_agent)"
   ]
  },
  {
   "cell_type": "code",
   "execution_count": 25,
   "metadata": {},
   "outputs": [],
   "source": [
    "from langchain.agents.agent_toolkits import create_conversational_retrieval_agent\n",
    "\n",
    "\n",
    "barbie_retriever_agent_executor = create_conversational_retrieval_agent(llm, barbie_retriever_tools, verbose=True)# YOUR CODE HERE"
   ]
  },
  {
   "cell_type": "code",
   "execution_count": 26,
   "metadata": {},
   "outputs": [
    {
     "name": "stdout",
     "output_type": "stream",
     "text": [
      "\n",
      "\n",
      "\u001b[1m> Entering new AgentExecutor chain...\u001b[0m\n",
      "\u001b[32;1m\u001b[1;3m\n",
      "Invoking: `search_barbie_on_wikipedia` with `{'query': 'Barbie'}`\n",
      "\n",
      "\n",
      "\u001b[0m\u001b[36;1m\u001b[1;3m[Document(page_content='.\\n\\n\\n== Plot ==\\nStereotypical Barbie (\"Barbie\") and fellow dolls reside in Barbieland; a matriarchal society with different variations of Barbies, Kens, and a group of discontinued models, who are treated like outcasts due to their unconventional traits. While the Kens spend their days playing at the beach, considering it as their profession, the Barbies hold prestigious jobs such as doctors, lawyers, and politicians. Beach Ken (\"Ken\") is only happy when he is with Barbie and seeks a closer relationship, but Barbie rebuffs him in favor of other activities and female friendships.\\nOne evening at a dance party, Barbie is suddenly stricken with worries about mortality. Overnight, she develops bad breath, cellulite, and flat feet, disrupting her usual routines the next day. Weird Barbie, an outcast due to her disfigurement, tells her she must find the child playing with her in the real world to cure her afflictions', metadata={})]\u001b[0m\u001b[32;1m\u001b[1;3m\n",
      "Invoking: `search_barbie_on_csv` with `{'query': 'Barbie'}`\n",
      "\n",
      "\n",
      "\u001b[0m\u001b[33;1m\u001b[1;3m[Document(page_content=\": 122\\nReview_Date: 30 July 2023\\nAuthor: walfordior\\nRating: 9\\nReview_Title: This is more than just a 'lighthearted comedy'\\nReview: Barbie is no longer just a toy; rather, this idea of 'Barbie' has evolved into one of the most famous and significant topics in the world at this moment in time. It is so much more than merely a toy. It will not longer be just 'a toy'\\nReview_Url: /review/rw9199947/?ref_=tt_urv\", metadata={}), Document(page_content=': 64\\nReview_Date: 22 July 2023\\nAuthor: fernandoschiavi\\nRating: 5\\nReview_Title: \"Barbie\" is fun and visually beautiful, but unfortunately Barbie doll was dragged into the cultural war, used as a puppet by political militancy', metadata={}), Document(page_content=\": 39\\nReview_Date: 23 July 2023\\nAuthor: Anurag-Shetty\\nRating: 10\\nReview_Title: A wholesome delight!\\nReview: Barbie is based on Mattel's iconic plastic dolls of the same name. Barbie(Margot Robbie) lives a very happy life in Barbie Land, along with her fellow Barbies, Ken(Ryan Gosling) & his fellow Kens. Suddenly, Barbie goes through an existential crisis that makes her question Barbie Land & the truth of her existence.\\nReview_Url: /review/rw9199947/?ref_=tt_urv\", metadata={}), Document(page_content=': 102\\nReview_Date: 1 August 2023\\nAuthor: tforbes-2\\nRating: 10\\nReview_Title: Mind blowing\\nReview: Barbie is simply a mind-blowing experience, and in a truly fine way! I was taken aback with the 2001 opening, since I have a personal aversion to seeing toys get destroyed, but then it starts to unfold.\\nReview_Url: /review/rw9199947/?ref_=tt_urv', metadata={})]\u001b[0m\u001b[32;1m\u001b[1;3mBased on the information I found, it seems that people have different opinions about Barbie. Some people find Barbie to be more than just a toy and consider it to be a significant and famous topic in the world. They appreciate the evolution of Barbie beyond being a simple toy. However, there are also reviews that mention Barbie being dragged into cultural wars and used for political militancy.\n",
      "\n",
      "As for the movie, it appears that there is a Barbie movie with a philosophical element to it. The plot revolves around Barbie experiencing an existential crisis that makes her question Barbie Land and the truth of her existence. This storyline adds a philosophical aspect to the movie.\n",
      "\n",
      "Please note that these are general observations and opinions from different sources. Individual opinions may vary.\u001b[0m\n",
      "\n",
      "\u001b[1m> Finished chain.\u001b[0m\n"
     ]
    },
    {
     "data": {
      "text/plain": [
       "{'input': 'Did people like Barbie, or did they find it too Philosphical? If they did, can you tell me why the movie is so Philosophical?',\n",
       " 'chat_history': [HumanMessage(content='Did people like Barbie, or did they find it too Philosphical? If they did, can you tell me why the movie is so Philosophical?', additional_kwargs={}, example=False),\n",
       "  AIMessage(content='', additional_kwargs={'function_call': {'name': 'search_barbie_on_wikipedia', 'arguments': '{\\n  \"query\": \"Barbie\"\\n}'}}, example=False),\n",
       "  FunctionMessage(content='[Document(page_content=\\'.\\\\n\\\\n\\\\n== Plot ==\\\\nStereotypical Barbie (\"Barbie\") and fellow dolls reside in Barbieland; a matriarchal society with different variations of Barbies, Kens, and a group of discontinued models, who are treated like outcasts due to their unconventional traits. While the Kens spend their days playing at the beach, considering it as their profession, the Barbies hold prestigious jobs such as doctors, lawyers, and politicians. Beach Ken (\"Ken\") is only happy when he is with Barbie and seeks a closer relationship, but Barbie rebuffs him in favor of other activities and female friendships.\\\\nOne evening at a dance party, Barbie is suddenly stricken with worries about mortality. Overnight, she develops bad breath, cellulite, and flat feet, disrupting her usual routines the next day. Weird Barbie, an outcast due to her disfigurement, tells her she must find the child playing with her in the real world to cure her afflictions\\', metadata={})]', additional_kwargs={}, name='search_barbie_on_wikipedia'),\n",
       "  AIMessage(content='', additional_kwargs={'function_call': {'name': 'search_barbie_on_csv', 'arguments': '{\\n  \"query\": \"Barbie\"\\n}'}}, example=False),\n",
       "  FunctionMessage(content='[Document(page_content=\": 122\\\\nReview_Date: 30 July 2023\\\\nAuthor: walfordior\\\\nRating: 9\\\\nReview_Title: This is more than just a \\'lighthearted comedy\\'\\\\nReview: Barbie is no longer just a toy; rather, this idea of \\'Barbie\\' has evolved into one of the most famous and significant topics in the world at this moment in time. It is so much more than merely a toy. It will not longer be just \\'a toy\\'\\\\nReview_Url: /review/rw9199947/?ref_=tt_urv\", metadata={}), Document(page_content=\\': 64\\\\nReview_Date: 22 July 2023\\\\nAuthor: fernandoschiavi\\\\nRating: 5\\\\nReview_Title: \"Barbie\" is fun and visually beautiful, but unfortunately Barbie doll was dragged into the cultural war, used as a puppet by political militancy\\', metadata={}), Document(page_content=\": 39\\\\nReview_Date: 23 July 2023\\\\nAuthor: Anurag-Shetty\\\\nRating: 10\\\\nReview_Title: A wholesome delight!\\\\nReview: Barbie is based on Mattel\\'s iconic plastic dolls of the same name. Barbie(Margot Robbie) lives a very happy life in Barbie Land, along with her fellow Barbies, Ken(Ryan Gosling) & his fellow Kens. Suddenly, Barbie goes through an existential crisis that makes her question Barbie Land & the truth of her existence.\\\\nReview_Url: /review/rw9199947/?ref_=tt_urv\", metadata={}), Document(page_content=\\': 102\\\\nReview_Date: 1 August 2023\\\\nAuthor: tforbes-2\\\\nRating: 10\\\\nReview_Title: Mind blowing\\\\nReview: Barbie is simply a mind-blowing experience, and in a truly fine way! I was taken aback with the 2001 opening, since I have a personal aversion to seeing toys get destroyed, but then it starts to unfold.\\\\nReview_Url: /review/rw9199947/?ref_=tt_urv\\', metadata={})]', additional_kwargs={}, name='search_barbie_on_csv'),\n",
       "  AIMessage(content='Based on the information I found, it seems that people have different opinions about Barbie. Some people find Barbie to be more than just a toy and consider it to be a significant and famous topic in the world. They appreciate the evolution of Barbie beyond being a simple toy. However, there are also reviews that mention Barbie being dragged into cultural wars and used for political militancy.\\n\\nAs for the movie, it appears that there is a Barbie movie with a philosophical element to it. The plot revolves around Barbie experiencing an existential crisis that makes her question Barbie Land and the truth of her existence. This storyline adds a philosophical aspect to the movie.\\n\\nPlease note that these are general observations and opinions from different sources. Individual opinions may vary.', additional_kwargs={}, example=False)],\n",
       " 'output': 'Based on the information I found, it seems that people have different opinions about Barbie. Some people find Barbie to be more than just a toy and consider it to be a significant and famous topic in the world. They appreciate the evolution of Barbie beyond being a simple toy. However, there are also reviews that mention Barbie being dragged into cultural wars and used for political militancy.\\n\\nAs for the movie, it appears that there is a Barbie movie with a philosophical element to it. The plot revolves around Barbie experiencing an existential crisis that makes her question Barbie Land and the truth of her existence. This storyline adds a philosophical aspect to the movie.\\n\\nPlease note that these are general observations and opinions from different sources. Individual opinions may vary.',\n",
       " 'intermediate_steps': [(_FunctionsAgentAction(tool='search_barbie_on_wikipedia', tool_input={'query': 'Barbie'}, log=\"\\nInvoking: `search_barbie_on_wikipedia` with `{'query': 'Barbie'}`\\n\\n\\n\", message_log=[AIMessage(content='', additional_kwargs={'function_call': {'name': 'search_barbie_on_wikipedia', 'arguments': '{\\n  \"query\": \"Barbie\"\\n}'}}, example=False)]),\n",
       "   [Document(page_content='.\\n\\n\\n== Plot ==\\nStereotypical Barbie (\"Barbie\") and fellow dolls reside in Barbieland; a matriarchal society with different variations of Barbies, Kens, and a group of discontinued models, who are treated like outcasts due to their unconventional traits. While the Kens spend their days playing at the beach, considering it as their profession, the Barbies hold prestigious jobs such as doctors, lawyers, and politicians. Beach Ken (\"Ken\") is only happy when he is with Barbie and seeks a closer relationship, but Barbie rebuffs him in favor of other activities and female friendships.\\nOne evening at a dance party, Barbie is suddenly stricken with worries about mortality. Overnight, she develops bad breath, cellulite, and flat feet, disrupting her usual routines the next day. Weird Barbie, an outcast due to her disfigurement, tells her she must find the child playing with her in the real world to cure her afflictions', metadata={})]),\n",
       "  (_FunctionsAgentAction(tool='search_barbie_on_csv', tool_input={'query': 'Barbie'}, log=\"\\nInvoking: `search_barbie_on_csv` with `{'query': 'Barbie'}`\\n\\n\\n\", message_log=[AIMessage(content='', additional_kwargs={'function_call': {'name': 'search_barbie_on_csv', 'arguments': '{\\n  \"query\": \"Barbie\"\\n}'}}, example=False)]),\n",
       "   [Document(page_content=\": 122\\nReview_Date: 30 July 2023\\nAuthor: walfordior\\nRating: 9\\nReview_Title: This is more than just a 'lighthearted comedy'\\nReview: Barbie is no longer just a toy; rather, this idea of 'Barbie' has evolved into one of the most famous and significant topics in the world at this moment in time. It is so much more than merely a toy. It will not longer be just 'a toy'\\nReview_Url: /review/rw9199947/?ref_=tt_urv\", metadata={}),\n",
       "    Document(page_content=': 64\\nReview_Date: 22 July 2023\\nAuthor: fernandoschiavi\\nRating: 5\\nReview_Title: \"Barbie\" is fun and visually beautiful, but unfortunately Barbie doll was dragged into the cultural war, used as a puppet by political militancy', metadata={}),\n",
       "    Document(page_content=\": 39\\nReview_Date: 23 July 2023\\nAuthor: Anurag-Shetty\\nRating: 10\\nReview_Title: A wholesome delight!\\nReview: Barbie is based on Mattel's iconic plastic dolls of the same name. Barbie(Margot Robbie) lives a very happy life in Barbie Land, along with her fellow Barbies, Ken(Ryan Gosling) & his fellow Kens. Suddenly, Barbie goes through an existential crisis that makes her question Barbie Land & the truth of her existence.\\nReview_Url: /review/rw9199947/?ref_=tt_urv\", metadata={}),\n",
       "    Document(page_content=': 102\\nReview_Date: 1 August 2023\\nAuthor: tforbes-2\\nRating: 10\\nReview_Title: Mind blowing\\nReview: Barbie is simply a mind-blowing experience, and in a truly fine way! I was taken aback with the 2001 opening, since I have a personal aversion to seeing toys get destroyed, but then it starts to unfold.\\nReview_Url: /review/rw9199947/?ref_=tt_urv', metadata={})])]}"
      ]
     },
     "execution_count": 26,
     "metadata": {},
     "output_type": "execute_result"
    }
   ],
   "source": [
    "barbie_retriever_agent_executor({\"input\" : \"Did people like Barbie, or did they find it too Philosphical? If they did, can you tell me why the movie is so Philosophical?\"})"
   ]
  },
  {
   "cell_type": "code",
   "execution_count": 28,
   "metadata": {},
   "outputs": [
    {
     "name": "stdout",
     "output_type": "stream",
     "text": [
      "\n",
      "\n",
      "\u001b[1m> Entering new AgentExecutor chain...\u001b[0m\n",
      "\u001b[32;1m\u001b[1;3mThe quick summary of the plot of the Barbie movie is that Barbie, a doll living in Barbieland, experiences an existential crisis that leads her to question her existence and the truth of Barbie Land.\u001b[0m\n",
      "\n",
      "\u001b[1m> Finished chain.\u001b[0m\n"
     ]
    },
    {
     "data": {
      "text/plain": [
       "{'input': 'What is a very quick summary of the plot of the Barbie movie?',\n",
       " 'chat_history': [HumanMessage(content='Did people like Barbie, or did they find it too Philosphical? If they did, can you tell me why the movie is so Philosophical?', additional_kwargs={}, example=False),\n",
       "  AIMessage(content='', additional_kwargs={'function_call': {'name': 'search_barbie_on_wikipedia', 'arguments': '{\\n  \"query\": \"Barbie\"\\n}'}}, example=False),\n",
       "  FunctionMessage(content='[Document(page_content=\\'.\\\\n\\\\n\\\\n== Plot ==\\\\nStereotypical Barbie (\"Barbie\") and fellow dolls reside in Barbieland; a matriarchal society with different variations of Barbies, Kens, and a group of discontinued models, who are treated like outcasts due to their unconventional traits. While the Kens spend their days playing at the beach, considering it as their profession, the Barbies hold prestigious jobs such as doctors, lawyers, and politicians. Beach Ken (\"Ken\") is only happy when he is with Barbie and seeks a closer relationship, but Barbie rebuffs him in favor of other activities and female friendships.\\\\nOne evening at a dance party, Barbie is suddenly stricken with worries about mortality. Overnight, she develops bad breath, cellulite, and flat feet, disrupting her usual routines the next day. Weird Barbie, an outcast due to her disfigurement, tells her she must find the child playing with her in the real world to cure her afflictions\\', metadata={})]', additional_kwargs={}, name='search_barbie_on_wikipedia'),\n",
       "  AIMessage(content='', additional_kwargs={'function_call': {'name': 'search_barbie_on_csv', 'arguments': '{\\n  \"query\": \"Barbie\"\\n}'}}, example=False),\n",
       "  FunctionMessage(content='[Document(page_content=\": 122\\\\nReview_Date: 30 July 2023\\\\nAuthor: walfordior\\\\nRating: 9\\\\nReview_Title: This is more than just a \\'lighthearted comedy\\'\\\\nReview: Barbie is no longer just a toy; rather, this idea of \\'Barbie\\' has evolved into one of the most famous and significant topics in the world at this moment in time. It is so much more than merely a toy. It will not longer be just \\'a toy\\'\\\\nReview_Url: /review/rw9199947/?ref_=tt_urv\", metadata={}), Document(page_content=\\': 64\\\\nReview_Date: 22 July 2023\\\\nAuthor: fernandoschiavi\\\\nRating: 5\\\\nReview_Title: \"Barbie\" is fun and visually beautiful, but unfortunately Barbie doll was dragged into the cultural war, used as a puppet by political militancy\\', metadata={}), Document(page_content=\": 39\\\\nReview_Date: 23 July 2023\\\\nAuthor: Anurag-Shetty\\\\nRating: 10\\\\nReview_Title: A wholesome delight!\\\\nReview: Barbie is based on Mattel\\'s iconic plastic dolls of the same name. Barbie(Margot Robbie) lives a very happy life in Barbie Land, along with her fellow Barbies, Ken(Ryan Gosling) & his fellow Kens. Suddenly, Barbie goes through an existential crisis that makes her question Barbie Land & the truth of her existence.\\\\nReview_Url: /review/rw9199947/?ref_=tt_urv\", metadata={}), Document(page_content=\\': 102\\\\nReview_Date: 1 August 2023\\\\nAuthor: tforbes-2\\\\nRating: 10\\\\nReview_Title: Mind blowing\\\\nReview: Barbie is simply a mind-blowing experience, and in a truly fine way! I was taken aback with the 2001 opening, since I have a personal aversion to seeing toys get destroyed, but then it starts to unfold.\\\\nReview_Url: /review/rw9199947/?ref_=tt_urv\\', metadata={})]', additional_kwargs={}, name='search_barbie_on_csv'),\n",
       "  AIMessage(content='Based on the information I found, it seems that people have different opinions about Barbie. Some people find Barbie to be more than just a toy and consider it to be a significant and famous topic in the world. They appreciate the evolution of Barbie beyond being a simple toy. However, there are also reviews that mention Barbie being dragged into cultural wars and used for political militancy.\\n\\nAs for the movie, it appears that there is a Barbie movie with a philosophical element to it. The plot revolves around Barbie experiencing an existential crisis that makes her question Barbie Land and the truth of her existence. This storyline adds a philosophical aspect to the movie.\\n\\nPlease note that these are general observations and opinions from different sources. Individual opinions may vary.', additional_kwargs={}, example=False),\n",
       "  HumanMessage(content='What is a very quick summary of the plot of the Barbie movie?', additional_kwargs={}, example=False),\n",
       "  AIMessage(content='The quick summary of the plot of the Barbie movie is that Barbie, along with other dolls, lives in Barbieland, a matriarchal society. One day, Barbie is struck with worries about mortality and develops various physical afflictions. She is told by an outcast doll that she must find the child playing with her in the real world to cure her afflictions.', additional_kwargs={}, example=False),\n",
       "  HumanMessage(content='What is a very quick summary of the plot of the Barbie movie?', additional_kwargs={}, example=False),\n",
       "  AIMessage(content='The quick summary of the plot of the Barbie movie is that Barbie, a doll living in Barbieland, experiences an existential crisis that leads her to question her existence and the truth of Barbie Land.', additional_kwargs={}, example=False)],\n",
       " 'output': 'The quick summary of the plot of the Barbie movie is that Barbie, a doll living in Barbieland, experiences an existential crisis that leads her to question her existence and the truth of Barbie Land.',\n",
       " 'intermediate_steps': []}"
      ]
     },
     "execution_count": 28,
     "metadata": {},
     "output_type": "execute_result"
    }
   ],
   "source": [
    "barbie_retriever_agent_executor({\"input\" : \"What is a very quick summary of the plot of the Barbie movie?\"})"
   ]
  },
  {
   "cell_type": "markdown",
   "metadata": {},
   "source": [
    "### Oppenheimer Retrieval System\n",
    "\n",
    "We're going to repourpose some of what we created previously, but this time we'll explore a different multi-source retrieval system."
   ]
  },
  {
   "cell_type": "code",
   "execution_count": 38,
   "metadata": {},
   "outputs": [],
   "source": [
    "oppenheimer_wikipedia_docs = WikipediaLoader(\n",
    "query=\"Oppenheimer (film)\",\n",
    "load_max_docs=2,\n",
    "doc_content_chars_max=4000\n",
    ").load() ### YOUR CODE HERE\n",
    "\n",
    "oppenheimer_csv_docs = CSVLoader(\n",
    "file_path='oppenheimer_data/oppenheimer.csv',\n",
    "source_column='Review_Url'\n",
    ").load() ### YOUR CODE HERE"
   ]
  },
  {
   "cell_type": "code",
   "execution_count": 39,
   "metadata": {},
   "outputs": [
    {
     "name": "stdout",
     "output_type": "stream",
     "text": [
      "[Document(page_content='Oppenheimer ( OP-ən-hy-mər) is a 2023 epic biographical thriller film written and directed by Christopher Nolan. Based on the 2005 biography American Prometheus by Kai Bird and Martin J. Sherwin, the film chronicles the career of American theoretical physicist J. Robert Oppenheimer. The story predominantly focuses on Oppenheimer\\'s studies, his direction of the Manhattan Project during World War II, and his eventual fall from grace due to his 1954 security hearing. The film stars Cillian Murphy as the title character, Emily Blunt as his wife, \"Kitty\", Matt Damon as head of the Manhattan Project Leslie Groves, Robert Downey Jr. as U.S. Atomic Energy Commission member Lewis Strauss, and Florence Pugh as Communist Party USA member Jean Tatlock. The ensemble supporting cast includes Josh Hartnett, Casey Affleck, Rami Malek, and Kenneth Branagh.\\nThe film was announced in September 2021 after Universal Pictures won a bidding war for Nolan\\'s screenplay, following Nolan\\'s conflict with longtime distributor Warner Bros. Murphy was the first cast member to sign on the following month, with the rest of the cast joining between November 2021 and April 2022. Pre-production was under way by January 2022, and filming took place from February to May. Oppenheimer was filmed in a combination of IMAX 65 mm and 65 mm large-format film, including, for the first time in history, sections in IMAX black-and-white film photography. Like his previous works, Nolan used extensive practical effects and minimal computer-generated imagery. Oppenheimer is Nolan\\'s first film to receive an R-rating in the United States since Insomnia in 2002.\\nOppenheimer premiered at Le Grand Rex in Paris on July 11, 2023, and was theatrically released in the United States and United Kingdom on July 21 by Universal. Its simultaneous release with Warner Bros.\\' Barbie led to the \"Barbenheimer\" cultural phenomenon, which encouraged audiences to see both films as a double feature. Oppenheimer has grossed over $731 million worldwide on a $100 million production budget, making it the fourth-highest-grossing film of 2023, the highest-grossing World War II-related film, and the fifth highest-grossing R-rated film of all time. It received critical acclaim, with particular praise for the cast performances, screenplay, and visuals.\\n\\n\\n== Plot ==\\nIn 1926, 22-year-old doctoral student J. Robert Oppenheimer studies under experimental physicist Patrick Blackett at the Cavendish Laboratory in Cambridge. He is homesick and suffers from anxiety while struggling with the required lab work.\\nOppenheimer, upset with the demanding Blackett, leaves him a poison-laced apple but retrieves it from the hands of visiting scientist Niels Bohr, who is impressed enough by his intellect to recommend that he should instead study theoretical physics in Germany, where Oppenheimer completes his PhD. He later meets theoretical physicist Werner Heisenberg at a conference in Switzerland.\\nOppenheimer returns to the United States, wanting to expand quantum physics research there. He begins teaching at the University of California, Berkeley and the California Institute of Technology, starting with one student. He meets his future wife, Katherine \"Kitty\" Puening, a biologist and ex-communist, and also has an intermittent affair with Jean Tatlock, a member of the Communist Party USA.\\nIn 1938, Nazi Germany\\'s progress in nuclear fission research spurs Oppenheimer and his colleagues to replicate their results. In 1942, amid World War II, U.S. Army General Leslie Groves recruits Oppenheimer to lead the Manhattan Project to develop an atomic bomb after he gives assurances that he has no communist sympathies.\\nOppenheimer, who is Jewish, is particularly driven by the Nazis\\' potentially completing their nuclear weapons program, headed by Heisenberg. He assembles a scientific team including Edward Teller and Isidor Isaac Rabi in Los Alamos, New Mexico, and also collaborates with scientists Enrico Fermi and David L. Hill. As the wor', metadata={'title': 'Oppenheimer (film)', 'summary': 'Oppenheimer ( OP-ən-hy-mər) is a 2023 epic biographical thriller film written and directed by Christopher Nolan. Based on the 2005 biography American Prometheus by Kai Bird and Martin J. Sherwin, the film chronicles the career of American theoretical physicist J. Robert Oppenheimer. The story predominantly focuses on Oppenheimer\\'s studies, his direction of the Manhattan Project during World War II, and his eventual fall from grace due to his 1954 security hearing. The film stars Cillian Murphy as the title character, Emily Blunt as his wife, \"Kitty\", Matt Damon as head of the Manhattan Project Leslie Groves, Robert Downey Jr. as U.S. Atomic Energy Commission member Lewis Strauss, and Florence Pugh as Communist Party USA member Jean Tatlock. The ensemble supporting cast includes Josh Hartnett, Casey Affleck, Rami Malek, and Kenneth Branagh.\\nThe film was announced in September 2021 after Universal Pictures won a bidding war for Nolan\\'s screenplay, following Nolan\\'s conflict with longtime distributor Warner Bros. Murphy was the first cast member to sign on the following month, with the rest of the cast joining between November 2021 and April 2022. Pre-production was under way by January 2022, and filming took place from February to May. Oppenheimer was filmed in a combination of IMAX 65 mm and 65 mm large-format film, including, for the first time in history, sections in IMAX black-and-white film photography. Like his previous works, Nolan used extensive practical effects and minimal computer-generated imagery. Oppenheimer is Nolan\\'s first film to receive an R-rating in the United States since Insomnia in 2002.\\nOppenheimer premiered at Le Grand Rex in Paris on July 11, 2023, and was theatrically released in the United States and United Kingdom on July 21 by Universal. Its simultaneous release with Warner Bros.\\' Barbie led to the \"Barbenheimer\" cultural phenomenon, which encouraged audiences to see both films as a double feature. Oppenheimer has grossed over $731 million worldwide on a $100 million production budget, making it the fourth-highest-grossing film of 2023, the highest-grossing World War II-related film, and the fifth highest-grossing R-rated film of all time. It received critical acclaim, with particular praise for the cast performances, screenplay, and visuals.', 'source': 'https://en.wikipedia.org/wiki/Oppenheimer_(film)'}), Document(page_content='Oppenheimer (Original Motion Picture Soundtrack) is the soundtrack album composed by Ludwig Göransson for the 2023 film Oppenheimer by Christopher Nolan. It was released on July 21, 2023, the same day as the film\\'s theatrical release in the United States.\\n\\n\\n== Background ==\\nOn October 8, 2021, Universal Pictures announced production on Oppenheimer and confirmed that composer Ludwig Göransson would be scoring the film. Göransson had previously worked with director Christopher Nolan, scoring Nolan\\'s 2020 film Tenet.Göransson\\'s score was featured in a trailer for the film on  May 8, 2023. It was also featured in the Universal Pictures exclusive five-minute Opening Look on July 13.\\n\\n\\n== Composition ==\\n\\n\\n=== Development ===\\nWhen approached to score Oppenheimer, Göransson was initially intimidated by the scope and magnitude of the project. In the film\\'s early stages of production, Nolan shared the script with his visual effects supervisor Andrew Jackson as he needed to convey phenomena such as quantum mechanics and nuclear reactions onscreen. The visual effects team began creating experimental footage of particles, waves, and chain reactions. Nolan then showed this footage to Göransson, who used it to draw inspiration for his score.Scoring Oppenheimer proved to be a unique challenge for Göransson as he had never composed a soundtrack that only represented one character\\'s inner workings and point of view. Nolan did not give specific direction on how he wanted the score to sound; the only suggestion he gave Göransson was to represent J. Robert Oppenheimer\\'s character and the film\\'s main theme with the violin. Nolan explained, \"There\\'s a tension to the sound in a way that I think fits the highly-strung intellect and emotion of Robert Oppenheimer very well.\" Using the violin as a starting point, Göransson and his wife Serena, a violinist, began experimenting with vibratos and microtonal glissandos; they aimed to convey the anxiety of Oppenheimer through the violin\\'s ability to instantly switch from a romantic and sentimental sound to something \"neurotic\" and \"horrifying.\"\\n\\n\\n=== Production ===\\nGöransson\\'s score comprises three overarching movements: Oppenheimer\\'s background in physics, the Manhattan Project and the Trinity test, and the Atomic Energy Commission hearing. The score begins with lush melodies by strings, harps, and piano as Oppenheimer explores theory and begins his career as a physicist. As the score transitions into the second movement, however, the tone shifts as the atomic bomb is being built, with the increased stakes being amplified by thumping bass and metallic ticking sounds. Göransson was careful not to veer his score toward sounding \"booming,\" especially in the film\\'s second act, as he believed that if the score was too explosive, the detonations in the film wouldn\\'t have as much of an impact on the audience.\\nBefore [the second act], it\\'s just theories, it\\'s just scribble-downs, it\\'s just ideas. But then when there\\'s an actual physical bomb, you take a crazy big tonal shift and just channel that with those synths, with the impending doom. You have that thumping bass and then there\\'s this metallic ticking sound, and that ode is up until the bomb goes off, and then you have these moments of silence, which I think is very effective.\\nWhile the film is a period piece and Göransson did use instrumentation that fit with the times, he also wanted the score to feel \"timeless,\" choosing to infuse the traditional orchestra with synthesizers and mono-production. He and Nolan also chose not to include drums in the score at the risk of it feeling militaristic, instead incorporating percussive elements such as foot stomping, ticking, and dosimeter static. During the nuclear reactor sequence, Göransson had the cellists play col legno, striking the strings with the stick of their bow to create a percussive sound.In addition to its instrumentation, Göransson conveyed the energy of the score through tempo. For example, in the piece \"', metadata={'title': 'Oppenheimer (soundtrack)', 'summary': \"Oppenheimer (Original Motion Picture Soundtrack) is the soundtrack album composed by Ludwig Göransson for the 2023 film Oppenheimer by Christopher Nolan. It was released on July 21, 2023, the same day as the film's theatrical release in the United States.\", 'source': 'https://en.wikipedia.org/wiki/Oppenheimer_(soundtrack)'})]\n"
     ]
    }
   ],
   "source": [
    "print(oppenheimer_wikipedia_docs)"
   ]
  },
  {
   "cell_type": "code",
   "execution_count": 40,
   "metadata": {},
   "outputs": [],
   "source": [
    "chunked_opp_wikipedia_docs = wikipedia_text_splitter.create_documents([ doc.page_content for doc in oppenheimer_wikipedia_docs])### YOUR CODE HERE\n",
    "chunked_opp_csv_docs = csv_text_splitter.create_documents([doc.page_content for doc in oppenheimer_csv_docs]) ### YOUR CODE HERE"
   ]
  },
  {
   "cell_type": "code",
   "execution_count": 41,
   "metadata": {},
   "outputs": [],
   "source": [
    "opp_csv_faiss_retriever = FAISS.from_documents(chunked_opp_csv_docs, embedder) ### YOUR CODE HERE\n",
    "\n",
    "# set up BM25 retriever\n",
    "opp_wikipedia_bm25_retriever = BM25Retriever.from_documents(\n",
    "chunked_opp_wikipedia_docs\n",
    ") ### YOUR CODE HERE\n",
    "opp_wikipedia_bm25_retriever.k = 1\n",
    "\n",
    "# set up FAISS vector store\n",
    "opp_wikipedia_faiss_store = FAISS.from_documents(\n",
    "chunked_opp_wikipedia_docs,\n",
    "embedder\n",
    ") ### YOUR CODE HERE\n",
    "opp_wikipedia_faiss_retriever = opp_wikipedia_faiss_store.as_retriever(search_kwargs={\"k\": 1})\n",
    "\n",
    "# set up ensemble retriever\n",
    "opp_ensemble_retriever = EnsembleRetriever(\n",
    "    retrievers=[opp_wikipedia_bm25_retriever, opp_wikipedia_faiss_retriever],### YOUR CODE HERE,\n",
    "    weights= [0.5,0.5]### YOUR CODE HERE # should sum to 1\n",
    ")### YOUR CODE HERE"
   ]
  },
  {
   "cell_type": "markdown",
   "metadata": {},
   "source": [
    "#### Multi-source chain\n",
    "\n",
    "We're going to allow the LLM to decide which information is most -> least valuable.\n",
    "\n",
    "The way we'll do this is with LangChain's rather powerful \"Expression Language\"!\n",
    "\n",
    "> HINT: You can leverage [this](https://python.langchain.com/docs/use_cases/question_answering/how_to/multiple_retrieval) resource if you get stuck - but experiment with different prompts/formats."
   ]
  },
  {
   "cell_type": "code",
   "execution_count": 42,
   "metadata": {},
   "outputs": [],
   "source": [
    "from langchain.prompts import ChatPromptTemplate\n",
    "\n",
    "system_message = \"\"\"Use the information from the below two sources to answer any questions.\n",
    "\n",
    "Source 1: public user reviews about the Oppenheimer movie\n",
    "<source1>\n",
    "{source1}\n",
    "</source1>\n",
    "\n",
    "Source 2: the wikipedia page for the Oppenheimer movie including the plot summary, cast, and production information\n",
    "<source2>\n",
    "{source2}\n",
    "</source2>\n",
    "\"\"\"\n",
    "\n",
    "prompt = ChatPromptTemplate.from_messages([(\"system\", system_message), (\"human\", \"{question}\")])"
   ]
  },
  {
   "cell_type": "code",
   "execution_count": 43,
   "metadata": {},
   "outputs": [],
   "source": [
    "oppenheimer_multisource_chain = {\n",
    "    \"source1\": (lambda x: x[\"question\"]) | opp_ensemble_retriever,\n",
    "    \"source2\": (lambda x: x[\"question\"]) | opp_csv_faiss_retriever.as_retriever(),\n",
    "    \"question\": lambda x: x[\"question\"],\n",
    "} | prompt | llm"
   ]
  },
  {
   "cell_type": "code",
   "execution_count": 44,
   "metadata": {},
   "outputs": [
    {
     "data": {
      "text/plain": [
       "AIMessage(content='Based on the information from the sources, the public reviews about the Oppenheimer movie are mixed. Some viewers found the movie to be a great experience, compelling, engaging, and simple to understand. They praised the phenomenal performances of the actors, particularly Cillian Murphy, and the beautiful cinematography. These viewers also appreciated that the movie sparked an interest in history. One reviewer mentioned that they had read the book earlier and still enjoyed the film.\\n\\nHowever, there are also viewers who expressed disappointment with the movie. They felt that the film lacked emotion and failed to capture the complexity of J. Robert Oppenheimer as a person. They mentioned missing important relationships and moments of catharsis from the book. These viewers also felt that the film lacked heart and primarily focused on the Los Alamos project and testimonies.\\n\\nOverall, opinions on the Oppenheimer movie seem to be divided, with some viewers enjoying it and others feeling let down by certain aspects.', additional_kwargs={}, example=False)"
      ]
     },
     "execution_count": 44,
     "metadata": {},
     "output_type": "execute_result"
    }
   ],
   "source": [
    "oppenheimer_multisource_chain.invoke({\"question\" : \"What did people think of the Oppenheimer movie?\"})"
   ]
  },
  {
   "cell_type": "markdown",
   "metadata": {},
   "source": [
    "# Agent Creation\n",
    "\n",
    "Now we can finally start building our Agent!\n",
    "\n",
    "The first thing we'll need to do is provide our Agent a Toolbelt. (list of tools). Much like Batman, our LLM-powered Agent can use these tools as it sees fit. \n",
    "\n",
    "While the examples we're constructing in this notebook are straightforward for brevity and simplicities sake - there is no limit to what you can build with Agents, as we'll see as we progress through the program.\n",
    "\n",
    "So, let's begin by setting up our Tools!\n",
    "\n",
    "You'll notice that we have to set up a function to allow our `OppenheimerInfo` tool to interface with the Agent - this is due to it have a specific required input. Creating custom tools is a pattern that you'll want to grow acustomed to as you use LangChain more and more."
   ]
  },
  {
   "cell_type": "code",
   "execution_count": 60,
   "metadata": {},
   "outputs": [],
   "source": [
    "from langchain.agents import Tool\n",
    "\n",
    "def query_oppenheimer(input):\n",
    "    return oppenheimer_multisource_chain.invoke({\"question\" : input})\n",
    "\n",
    "def query_barbie(input):\n",
    "    return barbie_retriever_agent_executor(input)\n",
    "\n",
    "tools = [\n",
    "    Tool(\n",
    "        name ='search_oppenheimer_on_wikipedia', ### YOUR CODE HERE,\n",
    "        func=query_oppenheimer,### YOUR CODE HERE,\n",
    "        description='Searches and returns documents regarding the oppenheimer on wikipedia'### YOUR CODE HERE\n",
    "    ),\n",
    "    Tool(\n",
    "        name ='search_barbie', ### YOUR CODE HERE,\n",
    "        func=query_barbie, ### YOUR CODE HERE,\n",
    "        description='Searches and returns documents regarding barbie' ### YOUR CODE HERE\n",
    "    ),\n",
    "]"
   ]
  },
  {
   "cell_type": "markdown",
   "metadata": {},
   "source": [
    "Now that we've set up our Agents toolbelt, let's set up the LLM that will be powering it!\n",
    "\n",
    "I would suggest playing around with these prompts - and experiments to find what works best for you.\n",
    "\n",
    "RELEVANT DOCS:\n",
    "- [`ZeroShotAgent`](https://api.python.langchain.com/en/latest/agents/langchain.agents.mrkl.base.ZeroShotAgent.html#langchain-agents-mrkl-base-zeroshotagent)"
   ]
  },
  {
   "cell_type": "code",
   "execution_count": 61,
   "metadata": {},
   "outputs": [],
   "source": [
    "from langchain.agents import ZeroShotAgent, AgentExecutor\n",
    "\n",
    "prefix = \"\"\"Have a conversation with a human, answering the following questions as best you can. You have access to the following tools:\"\"\"\n",
    "suffix = \"\"\"Begin!\"\n",
    "\n",
    "Question: {input}\n",
    "{agent_scratchpad}\"\"\"\n",
    "\n",
    "prompt = ZeroShotAgent.create_prompt(\n",
    "    prefix=prefix,### YOUR CODE HERE\n",
    "    suffix=suffix,### YOUR CODE HERE\n",
    "    input_variables=['input','agent_scratchpad'],### YOUR CODE HERE\n",
    "    tools=tools### YOUR CODE HERE\n",
    ")"
   ]
  },
  {
   "cell_type": "code",
   "execution_count": 62,
   "metadata": {},
   "outputs": [],
   "source": [
    "from langchain import LLMChain\n",
    "\n",
    "llm_chain = LLMChain(llm=ChatOpenAI(temperature=0), prompt=prompt)### YOUR CODE HERE"
   ]
  },
  {
   "cell_type": "markdown",
   "metadata": {},
   "source": [
    "All that's left to do now is create our `ZeroShotAgent` and our `AgentExecutor`, which are the \"reasoner\" and \"actor\" halfs of the `ReAct` method of Agent implementation.\n",
    "\n",
    "Read all about the `ReAct` framework [here](https://react-lm.github.io/)"
   ]
  },
  {
   "cell_type": "code",
   "execution_count": 63,
   "metadata": {},
   "outputs": [],
   "source": [
    "barbenheimer_agent = ZeroShotAgent(\n",
    "    llm_chain=llm_chain,### YOUR AGENTS, \n",
    "    tools=tools, ### YOUR AGENTS, \n",
    "    verbose=True ### YOUR AGENTS\n",
    ")\n",
    "\n",
    "barbenheimer_agent_chain = AgentExecutor.from_agent_and_tools(\n",
    "    agent=barbenheimer_agent,### YOUR AGENTS, \n",
    "    tools=tools,### YOUR AGENTS, \n",
    "    verbose=True ### YOUR AGENTS\n",
    ")"
   ]
  },
  {
   "cell_type": "markdown",
   "metadata": {},
   "source": [
    "## Conclusion\n",
    "\n",
    "All that is left to do now, is feed inputs to your Agent and watch it work!\n",
    "\n",
    "Remember to use the `{\"input\" : \"YOUR QUERY HERE\"}` format when prompting the Agent."
   ]
  },
  {
   "cell_type": "code",
   "execution_count": 64,
   "metadata": {},
   "outputs": [
    {
     "name": "stdout",
     "output_type": "stream",
     "text": [
      "\n",
      "\n",
      "\u001b[1m> Entering new AgentExecutor chain...\u001b[0m\n",
      "\u001b[32;1m\u001b[1;3mThought: I don't have the information about the Barbie movie.\n",
      "Action: search_barbie\n",
      "Action Input: None\u001b[0m\n",
      "\n",
      "\u001b[1m> Entering new AgentExecutor chain...\u001b[0m\n",
      "\u001b[32;1m\u001b[1;3mAlright, if you have any questions in the future, feel free to ask. Have a great day!\u001b[0m\n",
      "\n",
      "\u001b[1m> Finished chain.\u001b[0m\n",
      "\n",
      "Observation: \u001b[33;1m\u001b[1;3m{'input': 'None', 'chat_history': [HumanMessage(content='Did people like Barbie, or did they find it too Philosphical? If they did, can you tell me why the movie is so Philosophical?', additional_kwargs={}, example=False), AIMessage(content='', additional_kwargs={'function_call': {'name': 'search_barbie_on_wikipedia', 'arguments': '{\\n  \"query\": \"Barbie\"\\n}'}}, example=False), FunctionMessage(content='[Document(page_content=\\'.\\\\n\\\\n\\\\n== Plot ==\\\\nStereotypical Barbie (\"Barbie\") and fellow dolls reside in Barbieland; a matriarchal society with different variations of Barbies, Kens, and a group of discontinued models, who are treated like outcasts due to their unconventional traits. While the Kens spend their days playing at the beach, considering it as their profession, the Barbies hold prestigious jobs such as doctors, lawyers, and politicians. Beach Ken (\"Ken\") is only happy when he is with Barbie and seeks a closer relationship, but Barbie rebuffs him in favor of other activities and female friendships.\\\\nOne evening at a dance party, Barbie is suddenly stricken with worries about mortality. Overnight, she develops bad breath, cellulite, and flat feet, disrupting her usual routines the next day. Weird Barbie, an outcast due to her disfigurement, tells her she must find the child playing with her in the real world to cure her afflictions\\', metadata={})]', additional_kwargs={}, name='search_barbie_on_wikipedia'), AIMessage(content='', additional_kwargs={'function_call': {'name': 'search_barbie_on_csv', 'arguments': '{\\n  \"query\": \"Barbie\"\\n}'}}, example=False), FunctionMessage(content='[Document(page_content=\": 122\\\\nReview_Date: 30 July 2023\\\\nAuthor: walfordior\\\\nRating: 9\\\\nReview_Title: This is more than just a \\'lighthearted comedy\\'\\\\nReview: Barbie is no longer just a toy; rather, this idea of \\'Barbie\\' has evolved into one of the most famous and significant topics in the world at this moment in time. It is so much more than merely a toy. It will not longer be just \\'a toy\\'\\\\nReview_Url: /review/rw9199947/?ref_=tt_urv\", metadata={}), Document(page_content=\\': 64\\\\nReview_Date: 22 July 2023\\\\nAuthor: fernandoschiavi\\\\nRating: 5\\\\nReview_Title: \"Barbie\" is fun and visually beautiful, but unfortunately Barbie doll was dragged into the cultural war, used as a puppet by political militancy\\', metadata={}), Document(page_content=\": 39\\\\nReview_Date: 23 July 2023\\\\nAuthor: Anurag-Shetty\\\\nRating: 10\\\\nReview_Title: A wholesome delight!\\\\nReview: Barbie is based on Mattel\\'s iconic plastic dolls of the same name. Barbie(Margot Robbie) lives a very happy life in Barbie Land, along with her fellow Barbies, Ken(Ryan Gosling) & his fellow Kens. Suddenly, Barbie goes through an existential crisis that makes her question Barbie Land & the truth of her existence.\\\\nReview_Url: /review/rw9199947/?ref_=tt_urv\", metadata={}), Document(page_content=\\': 102\\\\nReview_Date: 1 August 2023\\\\nAuthor: tforbes-2\\\\nRating: 10\\\\nReview_Title: Mind blowing\\\\nReview: Barbie is simply a mind-blowing experience, and in a truly fine way! I was taken aback with the 2001 opening, since I have a personal aversion to seeing toys get destroyed, but then it starts to unfold.\\\\nReview_Url: /review/rw9199947/?ref_=tt_urv\\', metadata={})]', additional_kwargs={}, name='search_barbie_on_csv'), AIMessage(content='Based on the information I found, it seems that people have different opinions about Barbie. Some people find Barbie to be more than just a toy and consider it to be a significant and famous topic in the world. They appreciate the evolution of Barbie beyond being a simple toy. However, there are also reviews that mention Barbie being dragged into cultural wars and used for political militancy.\\n\\nAs for the movie, it appears that there is a Barbie movie with a philosophical element to it. The plot revolves around Barbie experiencing an existential crisis that makes her question Barbie Land and the truth of her existence. This storyline adds a philosophical aspect to the movie.\\n\\nPlease note that these are general observations and opinions from different sources. Individual opinions may vary.', additional_kwargs={}, example=False), HumanMessage(content='What is a very quick summary of the plot of the Barbie movie?', additional_kwargs={}, example=False), AIMessage(content='The quick summary of the plot of the Barbie movie is that Barbie, along with other dolls, lives in Barbieland, a matriarchal society. One day, Barbie is struck with worries about mortality and develops various physical afflictions. She is told by an outcast doll that she must find the child playing with her in the real world to cure her afflictions.', additional_kwargs={}, example=False), HumanMessage(content='What is a very quick summary of the plot of the Barbie movie?', additional_kwargs={}, example=False), AIMessage(content='The quick summary of the plot of the Barbie movie is that Barbie, a doll living in Barbieland, experiences an existential crisis that leads her to question her existence and the truth of Barbie Land.', additional_kwargs={}, example=False), HumanMessage(content='None', additional_kwargs={}, example=False), AIMessage(content='I apologize for any confusion. If you could provide more specific information about the Barbie movie you are referring to, I would be happy to provide a quick summary of its plot.', additional_kwargs={}, example=False), HumanMessage(content='None', additional_kwargs={}, example=False), AIMessage(content='I apologize for the confusion. Without specific information about the Barbie movie you are referring to, I am unable to provide a quick summary of its plot. If you have any other questions or need assistance with anything else, please let me know.', additional_kwargs={}, example=False), HumanMessage(content='None', additional_kwargs={}, example=False), AIMessage(content=\"I apologize if I couldn't assist you with the information you were looking for. If you have any other questions or need assistance in the future, feel free to ask.\", additional_kwargs={}, example=False), HumanMessage(content='None', additional_kwargs={}, example=False), AIMessage(content='Alright, if you have any questions in the future, feel free to ask. Have a great day!', additional_kwargs={}, example=False)], 'output': 'Alright, if you have any questions in the future, feel free to ask. Have a great day!', 'intermediate_steps': []}\u001b[0m\n",
      "Thought:\u001b[32;1m\u001b[1;3mI now know the final answer\n",
      "Final Answer: People have different opinions about the Barbie movie. Some find it to be more than just a toy and consider it a significant and famous topic. Others mention that Barbie has been dragged into cultural wars and used for political militancy. The plot of the Barbie movie revolves around Barbie experiencing an existential crisis that makes her question her existence and the truth of Barbie Land.\u001b[0m\n",
      "\n",
      "\u001b[1m> Finished chain.\u001b[0m\n"
     ]
    },
    {
     "data": {
      "text/plain": [
       "{'input': 'What did people like about the Barbie movie?',\n",
       " 'output': 'People have different opinions about the Barbie movie. Some find it to be more than just a toy and consider it a significant and famous topic. Others mention that Barbie has been dragged into cultural wars and used for political militancy. The plot of the Barbie movie revolves around Barbie experiencing an existential crisis that makes her question her existence and the truth of Barbie Land.'}"
      ]
     },
     "execution_count": 64,
     "metadata": {},
     "output_type": "execute_result"
    }
   ],
   "source": [
    "barbenheimer_agent_chain.invoke({\"input\" : \"What did people like about the Barbie movie?\"})"
   ]
  },
  {
   "cell_type": "code",
   "execution_count": 66,
   "metadata": {},
   "outputs": [
    {
     "name": "stdout",
     "output_type": "stream",
     "text": [
      "\n",
      "\n",
      "\u001b[1m> Entering new AgentExecutor chain...\u001b[0m\n",
      "\u001b[32;1m\u001b[1;3mThought: I don't have any information about the Oppenheimer movie.\n",
      "Action: search_oppenheimer_on_wikipedia\n",
      "Action Input: Oppenheimer movie\u001b[0m\n",
      "Observation: \u001b[36;1m\u001b[1;3mcontent='The Oppenheimer movie is a 2023 biographical thriller film written and directed by Christopher Nolan. It is based on the 2005 biography \"American Prometheus\" by Kai Bird and Martin J. Sherwin. The film depicts the career of American theoretical physicist J. Robert Oppenheimer, focusing on his studies, his direction of the Manhattan Project during World War II, and his fall from grace due to his 1954 security hearing.\\n\\nThe movie stars Cillian Murphy as J. Robert Oppenheimer, Emily Blunt as his wife Kitty, Matt Damon as Leslie Groves (head of the Manhattan Project), Robert Downey Jr. as Lewis Strauss (U.S. Atomic Energy Commission member), and Florence Pugh as Jean Tatlock (Communist Party USA member). The ensemble supporting cast includes Josh Hartnett, Casey Affleck, Rami Malek, and Kenneth Branagh.\\n\\nThe film\\'s soundtrack was composed by Ludwig Göransson and was released on July 21, 2023, the same day as the film\\'s theatrical release in the United States. Göransson had previously worked with director Christopher Nolan, scoring his 2020 film \"Tenet.\" The soundtrack was featured in a trailer for the film on May 8, 2023, and in the Universal Pictures exclusive five-minute Opening Look on July 13.\\n\\nPublic user reviews of the Oppenheimer movie have been highly positive. Reviewers have praised the film\\'s storyline, direction, performances, cinematography, and its exploration of the ethical and moral dilemmas faced by Oppenheimer during the creation of the atomic bomb. The movie has been described as awe-inspiring, intellectually stimulating, and a masterpiece by reviewers.' additional_kwargs={} example=False\u001b[0m\n",
      "Thought:\u001b[32;1m\u001b[1;3mI now know the final answer\n",
      "Final Answer: People liked the Oppenheimer movie for its storyline, direction, performances, cinematography, and exploration of ethical and moral dilemmas. It has been described as awe-inspiring, intellectually stimulating, and a masterpiece by reviewers.\u001b[0m\n",
      "\n",
      "\u001b[1m> Finished chain.\u001b[0m\n"
     ]
    },
    {
     "data": {
      "text/plain": [
       "'People liked the Oppenheimer movie for its storyline, direction, performances, cinematography, and exploration of ethical and moral dilemmas. It has been described as awe-inspiring, intellectually stimulating, and a masterpiece by reviewers.'"
      ]
     },
     "execution_count": 66,
     "metadata": {},
     "output_type": "execute_result"
    }
   ],
   "source": [
    "barbenheimer_agent_chain.run({\"input\" : \"What did people like about the Oppenheimer movie?\"})"
   ]
  },
  {
   "cell_type": "code",
   "execution_count": 70,
   "metadata": {},
   "outputs": [
    {
     "name": "stdout",
     "output_type": "stream",
     "text": [
      "\n",
      "\n",
      "\u001b[1m> Entering new AgentExecutor chain...\u001b[0m\n",
      "\u001b[32;1m\u001b[1;3mThought: I need to find information about the movies Barbie and Oppenheimer to determine if they share similar themes or ideas.\n",
      "Action: search_barbie\n",
      "Action Input: None\u001b[0m\n",
      "\n",
      "\u001b[1m> Entering new AgentExecutor chain...\u001b[0m\n",
      "\u001b[32;1m\u001b[1;3mAlright, if you have any questions or need assistance in the future, feel free to ask. Have a great day!\u001b[0m\n",
      "\n",
      "\u001b[1m> Finished chain.\u001b[0m\n",
      "\n",
      "Observation: \u001b[33;1m\u001b[1;3m{'input': 'None', 'chat_history': [HumanMessage(content='Did people like Barbie, or did they find it too Philosphical? If they did, can you tell me why the movie is so Philosophical?', additional_kwargs={}, example=False), AIMessage(content='', additional_kwargs={'function_call': {'name': 'search_barbie_on_wikipedia', 'arguments': '{\\n  \"query\": \"Barbie\"\\n}'}}, example=False), FunctionMessage(content='[Document(page_content=\\'.\\\\n\\\\n\\\\n== Plot ==\\\\nStereotypical Barbie (\"Barbie\") and fellow dolls reside in Barbieland; a matriarchal society with different variations of Barbies, Kens, and a group of discontinued models, who are treated like outcasts due to their unconventional traits. While the Kens spend their days playing at the beach, considering it as their profession, the Barbies hold prestigious jobs such as doctors, lawyers, and politicians. Beach Ken (\"Ken\") is only happy when he is with Barbie and seeks a closer relationship, but Barbie rebuffs him in favor of other activities and female friendships.\\\\nOne evening at a dance party, Barbie is suddenly stricken with worries about mortality. Overnight, she develops bad breath, cellulite, and flat feet, disrupting her usual routines the next day. Weird Barbie, an outcast due to her disfigurement, tells her she must find the child playing with her in the real world to cure her afflictions\\', metadata={})]', additional_kwargs={}, name='search_barbie_on_wikipedia'), AIMessage(content='', additional_kwargs={'function_call': {'name': 'search_barbie_on_csv', 'arguments': '{\\n  \"query\": \"Barbie\"\\n}'}}, example=False), FunctionMessage(content='[Document(page_content=\": 122\\\\nReview_Date: 30 July 2023\\\\nAuthor: walfordior\\\\nRating: 9\\\\nReview_Title: This is more than just a \\'lighthearted comedy\\'\\\\nReview: Barbie is no longer just a toy; rather, this idea of \\'Barbie\\' has evolved into one of the most famous and significant topics in the world at this moment in time. It is so much more than merely a toy. It will not longer be just \\'a toy\\'\\\\nReview_Url: /review/rw9199947/?ref_=tt_urv\", metadata={}), Document(page_content=\\': 64\\\\nReview_Date: 22 July 2023\\\\nAuthor: fernandoschiavi\\\\nRating: 5\\\\nReview_Title: \"Barbie\" is fun and visually beautiful, but unfortunately Barbie doll was dragged into the cultural war, used as a puppet by political militancy\\', metadata={}), Document(page_content=\": 39\\\\nReview_Date: 23 July 2023\\\\nAuthor: Anurag-Shetty\\\\nRating: 10\\\\nReview_Title: A wholesome delight!\\\\nReview: Barbie is based on Mattel\\'s iconic plastic dolls of the same name. Barbie(Margot Robbie) lives a very happy life in Barbie Land, along with her fellow Barbies, Ken(Ryan Gosling) & his fellow Kens. Suddenly, Barbie goes through an existential crisis that makes her question Barbie Land & the truth of her existence.\\\\nReview_Url: /review/rw9199947/?ref_=tt_urv\", metadata={}), Document(page_content=\\': 102\\\\nReview_Date: 1 August 2023\\\\nAuthor: tforbes-2\\\\nRating: 10\\\\nReview_Title: Mind blowing\\\\nReview: Barbie is simply a mind-blowing experience, and in a truly fine way! I was taken aback with the 2001 opening, since I have a personal aversion to seeing toys get destroyed, but then it starts to unfold.\\\\nReview_Url: /review/rw9199947/?ref_=tt_urv\\', metadata={})]', additional_kwargs={}, name='search_barbie_on_csv'), AIMessage(content='Based on the information I found, it seems that people have different opinions about Barbie. Some people find Barbie to be more than just a toy and consider it to be a significant and famous topic in the world. They appreciate the evolution of Barbie beyond being a simple toy. However, there are also reviews that mention Barbie being dragged into cultural wars and used for political militancy.\\n\\nAs for the movie, it appears that there is a Barbie movie with a philosophical element to it. The plot revolves around Barbie experiencing an existential crisis that makes her question Barbie Land and the truth of her existence. This storyline adds a philosophical aspect to the movie.\\n\\nPlease note that these are general observations and opinions from different sources. Individual opinions may vary.', additional_kwargs={}, example=False), HumanMessage(content='What is a very quick summary of the plot of the Barbie movie?', additional_kwargs={}, example=False), AIMessage(content='The quick summary of the plot of the Barbie movie is that Barbie, along with other dolls, lives in Barbieland, a matriarchal society. One day, Barbie is struck with worries about mortality and develops various physical afflictions. She is told by an outcast doll that she must find the child playing with her in the real world to cure her afflictions.', additional_kwargs={}, example=False), HumanMessage(content='What is a very quick summary of the plot of the Barbie movie?', additional_kwargs={}, example=False), AIMessage(content='The quick summary of the plot of the Barbie movie is that Barbie, a doll living in Barbieland, experiences an existential crisis that leads her to question her existence and the truth of Barbie Land.', additional_kwargs={}, example=False), HumanMessage(content='None', additional_kwargs={}, example=False), AIMessage(content='I apologize for any confusion. If you could provide more specific information about the Barbie movie you are referring to, I would be happy to provide a quick summary of its plot.', additional_kwargs={}, example=False), HumanMessage(content='None', additional_kwargs={}, example=False), AIMessage(content='I apologize for the confusion. Without specific information about the Barbie movie you are referring to, I am unable to provide a quick summary of its plot. If you have any other questions or need assistance with anything else, please let me know.', additional_kwargs={}, example=False), HumanMessage(content='None', additional_kwargs={}, example=False), AIMessage(content=\"I apologize if I couldn't assist you with the information you were looking for. If you have any other questions or need assistance in the future, feel free to ask.\", additional_kwargs={}, example=False), HumanMessage(content='None', additional_kwargs={}, example=False), AIMessage(content='Alright, if you have any questions in the future, feel free to ask. Have a great day!', additional_kwargs={}, example=False), HumanMessage(content='None', additional_kwargs={}, example=False), AIMessage(content=\"Understood. If you ever have any questions or need assistance in the future, don't hesitate to reach out. Have a great day!\", additional_kwargs={}, example=False), HumanMessage(content='None', additional_kwargs={}, example=False), AIMessage(content='Alright, if you ever have any questions in the future, feel free to ask. Have a great day!', additional_kwargs={}, example=False), HumanMessage(content='None', additional_kwargs={}, example=False), AIMessage(content='Alright, if you have any questions or need assistance in the future, feel free to ask. Have a great day!', additional_kwargs={}, example=False), HumanMessage(content='None', additional_kwargs={}, example=False), AIMessage(content='Alright, if you have any questions or need assistance in the future, feel free to ask. Have a great day!', additional_kwargs={}, example=False), HumanMessage(content='None', additional_kwargs={}, example=False), AIMessage(content='Alright, if you have any questions or need assistance in the future, feel free to ask. Have a great day!', additional_kwargs={}, example=False)], 'output': 'Alright, if you have any questions or need assistance in the future, feel free to ask. Have a great day!', 'intermediate_steps': []}\u001b[0m\n",
      "Thought:\u001b[32;1m\u001b[1;3mI have found information about the movie Barbie, but I still need to find information about the movie Oppenheimer to determine if they share similar themes or ideas.\n",
      "Action: search_oppenheimer_on_wikipedia\n"
     ]
    },
    {
     "name": "stdout",
     "output_type": "stream",
     "text": [
      "Action Input: None\u001b[0m\n",
      "Observation: \u001b[36;1m\u001b[1;3mcontent=\"I'm sorry, but I cannot answer any questions with the given information. The first source provided does not contain any specific information or details, and the second source seems to be incomplete as it only includes review URLs. If you have any other information or specific questions, please provide them and I'll do my best to assist you.\" additional_kwargs={} example=False\u001b[0m\n",
      "Thought:\u001b[32;1m\u001b[1;3mI couldn't find any specific information about the movie Oppenheimer. I need to find another source or ask for more specific information to determine if it shares similar themes or ideas with the movie Barbie.\n",
      "Action: search_oppenheimer_on_wikipedia\n",
      "Action Input: None\u001b[0m\n",
      "Observation: \u001b[36;1m\u001b[1;3mcontent=\"I'm sorry, but it seems that there are no specific questions to answer based on the provided information from the two sources. If you have any questions or need assistance with a specific topic, please let me know and I'll be happy to help.\" additional_kwargs={} example=False\u001b[0m\n",
      "Thought:\u001b[32;1m\u001b[1;3mI couldn't find any specific information about the movie Oppenheimer. I need to find another source or ask for more specific information to determine if it shares similar themes or ideas with the movie Barbie.\n",
      "Action: search_oppenheimer_on_wikipedia\n",
      "Action Input: None\u001b[0m\n",
      "Observation: \u001b[36;1m\u001b[1;3mcontent=\"It seems that there are no questions provided to answer. If you have any questions, please let me know and I'll be happy to help.\" additional_kwargs={} example=False\u001b[0m\n",
      "Thought:\u001b[32;1m\u001b[1;3mI couldn't find any specific information about the movie Oppenheimer. I need to find another source or ask for more specific information to determine if it shares similar themes or ideas with the movie Barbie.\n",
      "Action: search_oppenheimer_on_wikipedia\n",
      "Action Input: None\u001b[0m\n",
      "Observation: \u001b[36;1m\u001b[1;3mcontent=\"I'm sorry, I couldn't find any information to answer your question. Can you please provide more specific details or ask a different question?\" additional_kwargs={} example=False\u001b[0m\n",
      "Thought:\u001b[32;1m\u001b[1;3mI couldn't find any specific information about the movie Oppenheimer. I need to find another source or ask for more specific information to determine if it shares similar themes or ideas with the movie Barbie.\n",
      "Final Answer: I couldn't find any information about whether the movies Barbie and Oppenheimer share similar themes or ideas.\u001b[0m\n",
      "\n",
      "\u001b[1m> Finished chain.\u001b[0m\n"
     ]
    },
    {
     "data": {
      "text/plain": [
       "\"I couldn't find any information about whether the movies Barbie and Oppenheimer share similar themes or ideas.\""
      ]
     },
     "execution_count": 70,
     "metadata": {},
     "output_type": "execute_result"
    }
   ],
   "source": [
    "barbenheimer_agent_chain.run({\"input\" : \"Did the movies Barbie and Oppenheimer share similar themes or ideas?\"})"
   ]
  },
  {
   "cell_type": "markdown",
   "metadata": {},
   "source": [
    "## Next Steps\n",
    "\n",
    "It's time to build a Chainlit (or Gradio) application and host it on Hugging Face Spaces! :ship:"
   ]
  }
 ],
 "metadata": {
  "kernelspec": {
   "display_name": "Python 3 (ipykernel)",
   "language": "python",
   "name": "python3"
  },
  "language_info": {
   "codemirror_mode": {
    "name": "ipython",
    "version": 3
   },
   "file_extension": ".py",
   "mimetype": "text/x-python",
   "name": "python",
   "nbconvert_exporter": "python",
   "pygments_lexer": "ipython3",
   "version": "3.9.7"
  }
 },
 "nbformat": 4,
 "nbformat_minor": 2
}
